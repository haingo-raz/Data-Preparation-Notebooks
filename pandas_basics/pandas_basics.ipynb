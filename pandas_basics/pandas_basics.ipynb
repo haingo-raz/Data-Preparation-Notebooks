{
 "cells": [
  {
   "cell_type": "markdown",
   "metadata": {},
   "source": [
    "# Introduction to pandas"
   ]
  },
  {
   "cell_type": "markdown",
   "metadata": {},
   "source": [
    "Print the number of rows and columns in the dataset using the shape attribute of the dataframe object"
   ]
  },
  {
   "cell_type": "code",
   "execution_count": 5,
   "metadata": {
    "scrolled": false
   },
   "outputs": [
    {
     "name": "stdout",
     "output_type": "stream",
     "text": [
      "dict_keys(['data', 'target', 'frame', 'DESCR', 'feature_names', 'data_filename', 'target_filename', 'data_module'])\n",
      "(442, 10)\n"
     ]
    },
    {
     "data": {
      "text/html": [
       "<div>\n",
       "<style scoped>\n",
       "    .dataframe tbody tr th:only-of-type {\n",
       "        vertical-align: middle;\n",
       "    }\n",
       "\n",
       "    .dataframe tbody tr th {\n",
       "        vertical-align: top;\n",
       "    }\n",
       "\n",
       "    .dataframe thead th {\n",
       "        text-align: right;\n",
       "    }\n",
       "</style>\n",
       "<table border=\"1\" class=\"dataframe\">\n",
       "  <thead>\n",
       "    <tr style=\"text-align: right;\">\n",
       "      <th></th>\n",
       "      <th>age</th>\n",
       "      <th>sex</th>\n",
       "      <th>bmi</th>\n",
       "      <th>bp</th>\n",
       "      <th>s1</th>\n",
       "      <th>s2</th>\n",
       "      <th>s3</th>\n",
       "      <th>s4</th>\n",
       "      <th>s5</th>\n",
       "      <th>s6</th>\n",
       "    </tr>\n",
       "  </thead>\n",
       "  <tbody>\n",
       "    <tr>\n",
       "      <th>0</th>\n",
       "      <td>0.038076</td>\n",
       "      <td>0.050680</td>\n",
       "      <td>0.061696</td>\n",
       "      <td>0.021872</td>\n",
       "      <td>-0.044223</td>\n",
       "      <td>-0.034821</td>\n",
       "      <td>-0.043401</td>\n",
       "      <td>-0.002592</td>\n",
       "      <td>0.019907</td>\n",
       "      <td>-0.017646</td>\n",
       "    </tr>\n",
       "    <tr>\n",
       "      <th>1</th>\n",
       "      <td>-0.001882</td>\n",
       "      <td>-0.044642</td>\n",
       "      <td>-0.051474</td>\n",
       "      <td>-0.026328</td>\n",
       "      <td>-0.008449</td>\n",
       "      <td>-0.019163</td>\n",
       "      <td>0.074412</td>\n",
       "      <td>-0.039493</td>\n",
       "      <td>-0.068332</td>\n",
       "      <td>-0.092204</td>\n",
       "    </tr>\n",
       "    <tr>\n",
       "      <th>2</th>\n",
       "      <td>0.085299</td>\n",
       "      <td>0.050680</td>\n",
       "      <td>0.044451</td>\n",
       "      <td>-0.005670</td>\n",
       "      <td>-0.045599</td>\n",
       "      <td>-0.034194</td>\n",
       "      <td>-0.032356</td>\n",
       "      <td>-0.002592</td>\n",
       "      <td>0.002861</td>\n",
       "      <td>-0.025930</td>\n",
       "    </tr>\n",
       "    <tr>\n",
       "      <th>3</th>\n",
       "      <td>-0.089063</td>\n",
       "      <td>-0.044642</td>\n",
       "      <td>-0.011595</td>\n",
       "      <td>-0.036656</td>\n",
       "      <td>0.012191</td>\n",
       "      <td>0.024991</td>\n",
       "      <td>-0.036038</td>\n",
       "      <td>0.034309</td>\n",
       "      <td>0.022688</td>\n",
       "      <td>-0.009362</td>\n",
       "    </tr>\n",
       "    <tr>\n",
       "      <th>4</th>\n",
       "      <td>0.005383</td>\n",
       "      <td>-0.044642</td>\n",
       "      <td>-0.036385</td>\n",
       "      <td>0.021872</td>\n",
       "      <td>0.003935</td>\n",
       "      <td>0.015596</td>\n",
       "      <td>0.008142</td>\n",
       "      <td>-0.002592</td>\n",
       "      <td>-0.031988</td>\n",
       "      <td>-0.046641</td>\n",
       "    </tr>\n",
       "    <tr>\n",
       "      <th>...</th>\n",
       "      <td>...</td>\n",
       "      <td>...</td>\n",
       "      <td>...</td>\n",
       "      <td>...</td>\n",
       "      <td>...</td>\n",
       "      <td>...</td>\n",
       "      <td>...</td>\n",
       "      <td>...</td>\n",
       "      <td>...</td>\n",
       "      <td>...</td>\n",
       "    </tr>\n",
       "    <tr>\n",
       "      <th>437</th>\n",
       "      <td>0.041708</td>\n",
       "      <td>0.050680</td>\n",
       "      <td>0.019662</td>\n",
       "      <td>0.059744</td>\n",
       "      <td>-0.005697</td>\n",
       "      <td>-0.002566</td>\n",
       "      <td>-0.028674</td>\n",
       "      <td>-0.002592</td>\n",
       "      <td>0.031193</td>\n",
       "      <td>0.007207</td>\n",
       "    </tr>\n",
       "    <tr>\n",
       "      <th>438</th>\n",
       "      <td>-0.005515</td>\n",
       "      <td>0.050680</td>\n",
       "      <td>-0.015906</td>\n",
       "      <td>-0.067642</td>\n",
       "      <td>0.049341</td>\n",
       "      <td>0.079165</td>\n",
       "      <td>-0.028674</td>\n",
       "      <td>0.034309</td>\n",
       "      <td>-0.018114</td>\n",
       "      <td>0.044485</td>\n",
       "    </tr>\n",
       "    <tr>\n",
       "      <th>439</th>\n",
       "      <td>0.041708</td>\n",
       "      <td>0.050680</td>\n",
       "      <td>-0.015906</td>\n",
       "      <td>0.017293</td>\n",
       "      <td>-0.037344</td>\n",
       "      <td>-0.013840</td>\n",
       "      <td>-0.024993</td>\n",
       "      <td>-0.011080</td>\n",
       "      <td>-0.046883</td>\n",
       "      <td>0.015491</td>\n",
       "    </tr>\n",
       "    <tr>\n",
       "      <th>440</th>\n",
       "      <td>-0.045472</td>\n",
       "      <td>-0.044642</td>\n",
       "      <td>0.039062</td>\n",
       "      <td>0.001215</td>\n",
       "      <td>0.016318</td>\n",
       "      <td>0.015283</td>\n",
       "      <td>-0.028674</td>\n",
       "      <td>0.026560</td>\n",
       "      <td>0.044529</td>\n",
       "      <td>-0.025930</td>\n",
       "    </tr>\n",
       "    <tr>\n",
       "      <th>441</th>\n",
       "      <td>-0.045472</td>\n",
       "      <td>-0.044642</td>\n",
       "      <td>-0.073030</td>\n",
       "      <td>-0.081413</td>\n",
       "      <td>0.083740</td>\n",
       "      <td>0.027809</td>\n",
       "      <td>0.173816</td>\n",
       "      <td>-0.039493</td>\n",
       "      <td>-0.004222</td>\n",
       "      <td>0.003064</td>\n",
       "    </tr>\n",
       "  </tbody>\n",
       "</table>\n",
       "<p>442 rows × 10 columns</p>\n",
       "</div>"
      ],
      "text/plain": [
       "          age       sex       bmi        bp        s1        s2        s3  \\\n",
       "0    0.038076  0.050680  0.061696  0.021872 -0.044223 -0.034821 -0.043401   \n",
       "1   -0.001882 -0.044642 -0.051474 -0.026328 -0.008449 -0.019163  0.074412   \n",
       "2    0.085299  0.050680  0.044451 -0.005670 -0.045599 -0.034194 -0.032356   \n",
       "3   -0.089063 -0.044642 -0.011595 -0.036656  0.012191  0.024991 -0.036038   \n",
       "4    0.005383 -0.044642 -0.036385  0.021872  0.003935  0.015596  0.008142   \n",
       "..        ...       ...       ...       ...       ...       ...       ...   \n",
       "437  0.041708  0.050680  0.019662  0.059744 -0.005697 -0.002566 -0.028674   \n",
       "438 -0.005515  0.050680 -0.015906 -0.067642  0.049341  0.079165 -0.028674   \n",
       "439  0.041708  0.050680 -0.015906  0.017293 -0.037344 -0.013840 -0.024993   \n",
       "440 -0.045472 -0.044642  0.039062  0.001215  0.016318  0.015283 -0.028674   \n",
       "441 -0.045472 -0.044642 -0.073030 -0.081413  0.083740  0.027809  0.173816   \n",
       "\n",
       "           s4        s5        s6  \n",
       "0   -0.002592  0.019907 -0.017646  \n",
       "1   -0.039493 -0.068332 -0.092204  \n",
       "2   -0.002592  0.002861 -0.025930  \n",
       "3    0.034309  0.022688 -0.009362  \n",
       "4   -0.002592 -0.031988 -0.046641  \n",
       "..        ...       ...       ...  \n",
       "437 -0.002592  0.031193  0.007207  \n",
       "438  0.034309 -0.018114  0.044485  \n",
       "439 -0.011080 -0.046883  0.015491  \n",
       "440  0.026560  0.044529 -0.025930  \n",
       "441 -0.039493 -0.004222  0.003064  \n",
       "\n",
       "[442 rows x 10 columns]"
      ]
     },
     "execution_count": 5,
     "metadata": {},
     "output_type": "execute_result"
    }
   ],
   "source": [
    "from sklearn.datasets import load_diabetes\n",
    "import pandas as pd\n",
    "\n",
    "diabetes=load_diabetes() # load the dataset\n",
    "print(diabetes.keys()) \n",
    "# print(diabetes.DESCR) \n",
    "# print(diabetes.feature_names) # these are the column names\n",
    "\n",
    "df=pd.DataFrame(diabetes.data, columns=diabetes.feature_names)\n",
    "print(df.shape)\n",
    "df"
   ]
  },
  {
   "cell_type": "markdown",
   "metadata": {},
   "source": [
    "Print the first 5 observations of the dataset. "
   ]
  },
  {
   "cell_type": "code",
   "execution_count": 3,
   "metadata": {},
   "outputs": [
    {
     "name": "stdout",
     "output_type": "stream",
     "text": [
      "        age       sex       bmi        bp        s1        s2        s3  \\\n",
      "0  0.038076  0.050680  0.061696  0.021872 -0.044223 -0.034821 -0.043401   \n",
      "1 -0.001882 -0.044642 -0.051474 -0.026328 -0.008449 -0.019163  0.074412   \n",
      "2  0.085299  0.050680  0.044451 -0.005670 -0.045599 -0.034194 -0.032356   \n",
      "3 -0.089063 -0.044642 -0.011595 -0.036656  0.012191  0.024991 -0.036038   \n",
      "4  0.005383 -0.044642 -0.036385  0.021872  0.003935  0.015596  0.008142   \n",
      "\n",
      "         s4        s5        s6  \n",
      "0 -0.002592  0.019907 -0.017646  \n",
      "1 -0.039493 -0.068332 -0.092204  \n",
      "2 -0.002592  0.002861 -0.025930  \n",
      "3  0.034309  0.022688 -0.009362  \n",
      "4 -0.002592 -0.031988 -0.046641  \n"
     ]
    }
   ],
   "source": [
    "print(df.head())"
   ]
  },
  {
   "cell_type": "markdown",
   "metadata": {},
   "source": [
    "Print the column names of the dataset "
   ]
  },
  {
   "cell_type": "code",
   "execution_count": 64,
   "metadata": {},
   "outputs": [
    {
     "name": "stdout",
     "output_type": "stream",
     "text": [
      "Index(['age', 'sex', 'bmi', 'bp', 's1', 's2', 's3', 's4', 's5', 's6'], dtype='object')\n"
     ]
    }
   ],
   "source": [
    "print(df.columns)"
   ]
  },
  {
   "cell_type": "markdown",
   "metadata": {},
   "source": [
    "Get the dtype of each column"
   ]
  },
  {
   "cell_type": "code",
   "execution_count": 9,
   "metadata": {},
   "outputs": [
    {
     "name": "stdout",
     "output_type": "stream",
     "text": [
      "age    float64\n",
      "sex    float64\n",
      "bmi    float64\n",
      "bp     float64\n",
      "s1     float64\n",
      "s2     float64\n",
      "s3     float64\n",
      "s4     float64\n",
      "s5     float64\n",
      "s6     float64\n",
      "dtype: object\n"
     ]
    }
   ],
   "source": [
    "print(df.dtypes)"
   ]
  },
  {
   "cell_type": "markdown",
   "metadata": {},
   "source": [
    "Use loc to show the second row of the dataset. "
   ]
  },
  {
   "cell_type": "code",
   "execution_count": 10,
   "metadata": {},
   "outputs": [
    {
     "name": "stdout",
     "output_type": "stream",
     "text": [
      "age   -0.001882\n",
      "sex   -0.044642\n",
      "bmi   -0.051474\n",
      "bp    -0.026328\n",
      "s1    -0.008449\n",
      "s2    -0.019163\n",
      "s3     0.074412\n",
      "s4    -0.039493\n",
      "s5    -0.068332\n",
      "s6    -0.092204\n",
      "Name: 1, dtype: float64\n"
     ]
    }
   ],
   "source": [
    "row2 = df.loc[1]\n",
    "print(row2)"
   ]
  },
  {
   "cell_type": "markdown",
   "metadata": {},
   "source": [
    "Use loc to show the second, 100th and 150th rows of the dataset"
   ]
  },
  {
   "cell_type": "code",
   "execution_count": 12,
   "metadata": {},
   "outputs": [
    {
     "name": "stdout",
     "output_type": "stream",
     "text": [
      "          age       sex       bmi        bp        s1        s2        s3  \\\n",
      "1   -0.001882 -0.044642 -0.051474 -0.026328 -0.008449 -0.019163  0.074412   \n",
      "99  -0.001882 -0.044642 -0.064408  0.011544  0.027326  0.037517 -0.013948   \n",
      "149 -0.049105  0.050680 -0.005128 -0.046985 -0.020832 -0.020416 -0.069172   \n",
      "\n",
      "           s4        s5        s6  \n",
      "1   -0.039493 -0.068332 -0.092204  \n",
      "99   0.034309  0.011785 -0.054925  \n",
      "149  0.071210  0.061238 -0.038357  \n"
     ]
    }
   ],
   "source": [
    "rows_selected = df.loc[[1, 99, 149]]\n",
    "print(rows_selected)"
   ]
  },
  {
   "cell_type": "markdown",
   "metadata": {},
   "source": [
    "Use iloc to show the the second and 100th rows of the dataset"
   ]
  },
  {
   "cell_type": "code",
   "execution_count": 13,
   "metadata": {},
   "outputs": [
    {
     "name": "stdout",
     "output_type": "stream",
     "text": [
      "         age       sex       bmi        bp        s1        s2        s3  \\\n",
      "1  -0.001882 -0.044642 -0.051474 -0.026328 -0.008449 -0.019163  0.074412   \n",
      "99 -0.001882 -0.044642 -0.064408  0.011544  0.027326  0.037517 -0.013948   \n",
      "\n",
      "          s4        s5        s6  \n",
      "1  -0.039493 -0.068332 -0.092204  \n",
      "99  0.034309  0.011785 -0.054925  \n"
     ]
    }
   ],
   "source": [
    "rows_sample = df.iloc[[1, 99]]\n",
    "print(rows_sample)"
   ]
  },
  {
   "cell_type": "markdown",
   "metadata": {},
   "source": [
    "Use loc to show the bmi column of the dataset"
   ]
  },
  {
   "cell_type": "code",
   "execution_count": 5,
   "metadata": {},
   "outputs": [
    {
     "name": "stdout",
     "output_type": "stream",
     "text": [
      "0      0.061696\n",
      "1     -0.051474\n",
      "2      0.044451\n",
      "3     -0.011595\n",
      "4     -0.036385\n",
      "         ...   \n",
      "437    0.019662\n",
      "438   -0.015906\n",
      "439   -0.015906\n",
      "440    0.039062\n",
      "441   -0.073030\n",
      "Name: bmi, Length: 442, dtype: float64\n"
     ]
    }
   ],
   "source": [
    "bmi_column = df.loc[:, 'bmi']\n",
    "print(bmi_column)"
   ]
  },
  {
   "cell_type": "markdown",
   "metadata": {},
   "source": [
    "Use loc to show the bmi, bp columns of the dataset"
   ]
  },
  {
   "cell_type": "code",
   "execution_count": 18,
   "metadata": {},
   "outputs": [
    {
     "name": "stdout",
     "output_type": "stream",
     "text": [
      "          bmi        bp\n",
      "0    0.061696  0.021872\n",
      "1   -0.051474 -0.026328\n",
      "2    0.044451 -0.005670\n",
      "3   -0.011595 -0.036656\n",
      "4   -0.036385  0.021872\n",
      "..        ...       ...\n",
      "437  0.019662  0.059744\n",
      "438 -0.015906 -0.067642\n",
      "439 -0.015906  0.017293\n",
      "440  0.039062  0.001215\n",
      "441 -0.073030 -0.081413\n",
      "\n",
      "[442 rows x 2 columns]\n"
     ]
    }
   ],
   "source": [
    "selected_columns = df.loc[:, ['bmi', 'bp']]\n",
    "print(selected_columns)"
   ]
  },
  {
   "cell_type": "markdown",
   "metadata": {},
   "source": [
    "Use iloc to show the last row of the dataset "
   ]
  },
  {
   "cell_type": "code",
   "execution_count": 19,
   "metadata": {},
   "outputs": [
    {
     "name": "stdout",
     "output_type": "stream",
     "text": [
      "age   -0.045472\n",
      "sex   -0.044642\n",
      "bmi   -0.073030\n",
      "bp    -0.081413\n",
      "s1     0.083740\n",
      "s2     0.027809\n",
      "s3     0.173816\n",
      "s4    -0.039493\n",
      "s5    -0.004222\n",
      "s6     0.003064\n",
      "Name: 441, dtype: float64\n"
     ]
    }
   ],
   "source": [
    "last_row = df.iloc[-1]\n",
    "print(last_row)"
   ]
  },
  {
   "cell_type": "markdown",
   "metadata": {},
   "source": [
    "Use iloc to show the last two observations of the dataset"
   ]
  },
  {
   "cell_type": "code",
   "execution_count": 21,
   "metadata": {},
   "outputs": [
    {
     "name": "stdout",
     "output_type": "stream",
     "text": [
      "          age       sex       bmi        bp        s1        s2        s3  \\\n",
      "440 -0.045472 -0.044642  0.039062  0.001215  0.016318  0.015283 -0.028674   \n",
      "441 -0.045472 -0.044642 -0.073030 -0.081413  0.083740  0.027809  0.173816   \n",
      "\n",
      "           s4        s5        s6  \n",
      "440  0.026560  0.044529 -0.025930  \n",
      "441 -0.039493 -0.004222  0.003064  \n"
     ]
    }
   ],
   "source": [
    "last_two_rows = df.iloc[-2:]\n",
    "print(last_two_rows)"
   ]
  },
  {
   "cell_type": "markdown",
   "metadata": {},
   "source": [
    "Use loc to create a subset of the first 10 obs for age,bmi,bp columns. Then show the first 5 obs of the subset dataframe. "
   ]
  },
  {
   "cell_type": "code",
   "execution_count": 23,
   "metadata": {},
   "outputs": [
    {
     "name": "stdout",
     "output_type": "stream",
     "text": [
      "        age       bmi        bp\n",
      "0  0.038076  0.061696  0.021872\n",
      "1 -0.001882 -0.051474 -0.026328\n",
      "2  0.085299  0.044451 -0.005670\n",
      "3 -0.089063 -0.011595 -0.036656\n",
      "4  0.005383 -0.036385  0.021872\n"
     ]
    }
   ],
   "source": [
    "subset = df.loc[:9, ['age', 'bmi', 'bp']] # create the subset\n",
    "print(subset.head())"
   ]
  },
  {
   "cell_type": "markdown",
   "metadata": {},
   "source": [
    "Use iloc and slicing columns method with colon (:) to slice the first 6 columns of the dataset)keep all rows). Save the sliced subset in dataframe subset, then show the first 5 obs of dataframe subset.   "
   ]
  },
  {
   "cell_type": "code",
   "execution_count": 65,
   "metadata": {},
   "outputs": [
    {
     "name": "stdout",
     "output_type": "stream",
     "text": [
      "        age       sex       bmi        bp        s1        s2\n",
      "0  0.038076  0.050680  0.061696  0.021872 -0.044223 -0.034821\n",
      "1 -0.001882 -0.044642 -0.051474 -0.026328 -0.008449 -0.019163\n",
      "2  0.085299  0.050680  0.044451 -0.005670 -0.045599 -0.034194\n",
      "3 -0.089063 -0.044642 -0.011595 -0.036656  0.012191  0.024991\n",
      "4  0.005383 -0.044642 -0.036385  0.021872  0.003935  0.015596\n"
     ]
    }
   ],
   "source": [
    "subset = df.iloc[:, 0:6]\n",
    "print(subset.head())"
   ]
  },
  {
   "cell_type": "markdown",
   "metadata": {},
   "source": [
    "Slice columns 3 to 5 inclusive into dataframe subset. then show the first 5 obs of dataframe subset.  "
   ]
  },
  {
   "cell_type": "code",
   "execution_count": 6,
   "metadata": {},
   "outputs": [
    {
     "name": "stdout",
     "output_type": "stream",
     "text": [
      "        bmi        bp        s1\n",
      "0  0.061696  0.021872 -0.044223\n",
      "1 -0.051474 -0.026328 -0.008449\n",
      "2  0.044451 -0.005670 -0.045599\n",
      "3 -0.011595 -0.036656  0.012191\n",
      "4 -0.036385  0.021872  0.003935\n"
     ]
    }
   ],
   "source": [
    "subset = df.iloc[:, 2:5]\n",
    "print(subset.head())"
   ]
  },
  {
   "cell_type": "markdown",
   "metadata": {},
   "source": [
    "Use iloc and slice every other column up to 5 inclusive into a dataframe subset. Then show the first 5 obs of the dataframe subset."
   ]
  },
  {
   "cell_type": "code",
   "execution_count": 71,
   "metadata": {},
   "outputs": [
    {
     "name": "stdout",
     "output_type": "stream",
     "text": [
      "        age       bmi        s1\n",
      "0  0.038076  0.061696 -0.044223\n",
      "1 -0.001882 -0.051474 -0.008449\n",
      "2  0.085299  0.044451 -0.045599\n",
      "3 -0.089063 -0.011595  0.012191\n",
      "4  0.005383 -0.036385  0.003935\n"
     ]
    }
   ],
   "source": [
    "subset = df.iloc[:, :6:2]\n",
    "print(subset.head())"
   ]
  },
  {
   "cell_type": "markdown",
   "metadata": {},
   "source": [
    "Use loc to display the age for the 10th row of the dataframe."
   ]
  },
  {
   "cell_type": "code",
   "execution_count": 31,
   "metadata": {},
   "outputs": [
    {
     "name": "stdout",
     "output_type": "stream",
     "text": [
      "-0.07090024709715959\n"
     ]
    }
   ],
   "source": [
    "row_10_age = df.loc[9, 'age']\n",
    "print(row_10_age)"
   ]
  },
  {
   "cell_type": "markdown",
   "metadata": {},
   "source": [
    "Use loc to display the bmi for row numbers 100, 200 and 300. "
   ]
  },
  {
   "cell_type": "code",
   "execution_count": 30,
   "metadata": {},
   "outputs": [
    {
     "name": "stdout",
     "output_type": "stream",
     "text": [
      "99    -0.064408\n",
      "199   -0.045007\n",
      "299   -0.013751\n",
      "Name: bmi, dtype: float64\n"
     ]
    }
   ],
   "source": [
    "bmi_selected_rows = df.loc[[99, 199, 299], 'bmi']\n",
    "print(bmi_selected_rows)"
   ]
  },
  {
   "cell_type": "markdown",
   "metadata": {},
   "source": [
    "Use loc to display the data where age>50. "
   ]
  },
  {
   "cell_type": "code",
   "execution_count": 72,
   "metadata": {},
   "outputs": [
    {
     "name": "stdout",
     "output_type": "stream",
     "text": [
      "     AGE  SEX   BMI      BP   S1     S2    S3    S4      S5   S6    Y\n",
      "0     59    2  32.1  101.00  157   93.2  38.0  4.00  4.8598   87  151\n",
      "2     72    2  30.5   93.00  156   93.6  41.0  4.00  4.6728   85  141\n",
      "7     66    2  26.2  114.00  255  185.0  56.0  4.55  4.2485   92   63\n",
      "8     60    2  32.1   83.00  179  119.4  42.0  4.00  4.4773   94  110\n",
      "11    56    2  28.0   85.00  184  144.8  32.0  6.00  3.5835   77   69\n",
      "..   ...  ...   ...     ...  ...    ...   ...   ...     ...  ...  ...\n",
      "431   68    2  23.5  101.00  162   85.4  59.0  3.00  4.4773   91   66\n",
      "432   51    1  31.5   93.00  231  144.0  49.0  4.70  5.2523  117  173\n",
      "434   53    1  26.5   97.00  193  122.4  58.0  3.00  4.1431   99   49\n",
      "437   60    2  28.2  112.00  185  113.8  42.0  4.00  4.9836   93  178\n",
      "439   60    2  24.9   99.67  162  106.6  43.0  3.77  4.1271   95  132\n",
      "\n",
      "[215 rows x 11 columns]\n"
     ]
    }
   ],
   "source": [
    "df1=pd.read_csv('diabetes.csv')\n",
    "\n",
    "age_more_than_50 = df1.loc[df1['AGE'] > 50]\n",
    "print(age_more_than_50)"
   ]
  },
  {
   "cell_type": "markdown",
   "metadata": {},
   "source": [
    "Use loc to display only bmi and bp for the females only."
   ]
  },
  {
   "cell_type": "code",
   "execution_count": 48,
   "metadata": {},
   "outputs": [
    {
     "name": "stdout",
     "output_type": "stream",
     "text": [
      "      BMI      BP\n",
      "0    32.1  101.00\n",
      "2    30.5   93.00\n",
      "6    22.0   90.00\n",
      "7    26.2  114.00\n",
      "8    32.1   83.00\n",
      "..    ...     ...\n",
      "428  34.6  120.00\n",
      "431  23.5  101.00\n",
      "437  28.2  112.00\n",
      "438  24.9   75.00\n",
      "439  24.9   99.67\n",
      "\n",
      "[207 rows x 2 columns]\n"
     ]
    }
   ],
   "source": [
    "bmi_bp_females = df1.loc[df1['SEX'] == 2, ['BMI', 'BP']]\n",
    "print(bmi_bp_females)"
   ]
  },
  {
   "cell_type": "markdown",
   "metadata": {},
   "source": [
    "Get a series of age column from the dataframe object."
   ]
  },
  {
   "cell_type": "code",
   "execution_count": 5,
   "metadata": {},
   "outputs": [
    {
     "name": "stdout",
     "output_type": "stream",
     "text": [
      "0      0.038076\n",
      "1     -0.001882\n",
      "2      0.085299\n",
      "3     -0.089063\n",
      "4      0.005383\n",
      "         ...   \n",
      "437    0.041708\n",
      "438   -0.005515\n",
      "439    0.041708\n",
      "440   -0.045472\n",
      "441   -0.045472\n",
      "Name: age, Length: 442, dtype: float64\n"
     ]
    }
   ],
   "source": [
    "age_series=df['age']\n",
    "print(age_series)"
   ]
  },
  {
   "cell_type": "markdown",
   "metadata": {},
   "source": [
    "Print the min, max and mean values for the age series."
   ]
  },
  {
   "cell_type": "code",
   "execution_count": 51,
   "metadata": {},
   "outputs": [
    {
     "name": "stdout",
     "output_type": "stream",
     "text": [
      "-0.1072256316073538\n",
      "0.11072667545381144\n",
      "-2.511816797794472e-19\n"
     ]
    }
   ],
   "source": [
    "min_age = age_series.min()\n",
    "max_age = age_series.max()\n",
    "mean_age = age_series.mean()\n",
    "\n",
    "print(min_age)\n",
    "print(max_age)\n",
    "print(mean_age)"
   ]
  },
  {
   "cell_type": "markdown",
   "metadata": {},
   "source": [
    "Print the basic information about age series"
   ]
  },
  {
   "cell_type": "code",
   "execution_count": 52,
   "metadata": {},
   "outputs": [
    {
     "name": "stdout",
     "output_type": "stream",
     "text": [
      "count    4.420000e+02\n",
      "mean    -2.511817e-19\n",
      "std      4.761905e-02\n",
      "min     -1.072256e-01\n",
      "25%     -3.729927e-02\n",
      "50%      5.383060e-03\n",
      "75%      3.807591e-02\n",
      "max      1.107267e-01\n",
      "Name: age, dtype: float64\n"
     ]
    }
   ],
   "source": [
    "age_info = age_series.describe()\n",
    "print(age_info)"
   ]
  },
  {
   "cell_type": "markdown",
   "metadata": {},
   "source": [
    "Print the subset of ages that are less than mean age value"
   ]
  },
  {
   "cell_type": "code",
   "execution_count": 56,
   "metadata": {},
   "outputs": [
    {
     "name": "stdout",
     "output_type": "stream",
     "text": [
      "-2.511816797794472e-19\n",
      "1     -0.001882\n",
      "3     -0.089063\n",
      "5     -0.092695\n",
      "6     -0.045472\n",
      "9     -0.070900\n",
      "         ...   \n",
      "435   -0.012780\n",
      "436   -0.056370\n",
      "438   -0.005515\n",
      "440   -0.045472\n",
      "441   -0.045472\n",
      "Name: age, Length: 202, dtype: float64\n"
     ]
    }
   ],
   "source": [
    "age_mean = age_series.mean()\n",
    "print(age_mean)\n",
    "\n",
    "ages_subset = age_series[age_series < age_mean]\n",
    "\n",
    "print(ages_subset)"
   ]
  },
  {
   "cell_type": "markdown",
   "metadata": {},
   "source": [
    "Sort the age series and print sorted values."
   ]
  },
  {
   "cell_type": "code",
   "execution_count": 57,
   "metadata": {},
   "outputs": [
    {
     "name": "stdout",
     "output_type": "stream",
     "text": [
      "26    -0.107226\n",
      "374   -0.107226\n",
      "344   -0.107226\n",
      "79    -0.103593\n",
      "226   -0.103593\n",
      "         ...   \n",
      "211    0.092564\n",
      "311    0.096197\n",
      "321    0.096197\n",
      "402    0.110727\n",
      "204    0.110727\n",
      "Name: age, Length: 442, dtype: float64\n"
     ]
    }
   ],
   "source": [
    "age_series_sorted = age_series.sort_values()\n",
    "print(age_series_sorted)"
   ]
  },
  {
   "cell_type": "markdown",
   "metadata": {},
   "source": [
    "Print all the unique values from the age series."
   ]
  },
  {
   "cell_type": "code",
   "execution_count": 6,
   "metadata": {},
   "outputs": [
    {
     "name": "stdout",
     "output_type": "stream",
     "text": [
      "[ 0.03807591 -0.00188202  0.08529891 -0.08906294  0.00538306 -0.09269548\n",
      " -0.04547248  0.06350368  0.04170844 -0.07090025 -0.09632802  0.02717829\n",
      "  0.01628068  0.04534098 -0.05273755 -0.00551455  0.07076875 -0.0382074\n",
      " -0.02730979 -0.04910502 -0.0854304  -0.06363517 -0.06726771 -0.10722563\n",
      " -0.02367725  0.05260606  0.06713621 -0.06000263  0.03444337  0.03081083\n",
      "  0.04897352  0.01264814 -0.00914709 -0.09996055  0.01991321 -0.05637009\n",
      " -0.07816532 -0.04183994  0.05987114 -0.03457486 -0.03094232 -0.10359309\n",
      " -0.01641217  0.00175052 -0.02004471  0.0562386   0.02354575  0.0090156\n",
      " -0.07453279 -0.01277963 -0.08179786  0.08166637  0.11072668  0.09256398\n",
      "  0.07440129  0.07803383  0.09619652  0.08893144]\n"
     ]
    }
   ],
   "source": [
    "age_series_unique = age_series.unique()\n",
    "print(age_series_unique)"
   ]
  }
 ],
 "metadata": {
  "kernelspec": {
   "display_name": "Python 3 (ipykernel)",
   "language": "python",
   "name": "python3"
  },
  "language_info": {
   "codemirror_mode": {
    "name": "ipython",
    "version": 3
   },
   "file_extension": ".py",
   "mimetype": "text/x-python",
   "name": "python",
   "nbconvert_exporter": "python",
   "pygments_lexer": "ipython3",
   "version": "3.11.5"
  }
 },
 "nbformat": 4,
 "nbformat_minor": 4
}
