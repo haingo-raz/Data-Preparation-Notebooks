{
 "cells": [
  {
   "cell_type": "markdown",
   "metadata": {},
   "source": [
    "# Lab 1\n",
    "### Learning outcomes \n",
    "Upon successful completion of this lab, you will have demonstrated the abilities to: \n",
    "1.\tLoading a dataset into a pandas dataframe\n",
    "2.\tCounting how many rows and columns were loaded\n",
    "3.\tDetermining which type of data was loaded\n",
    "4.\tLooking at different parts of the data by subsetting rows and columns\n",
    "5.\tWorking with Data Series\n"
   ]
  },
  {
   "cell_type": "markdown",
   "metadata": {},
   "source": [
    "#### Before you start\n",
    "Load the diabetes dataset "
   ]
  },
  {
   "cell_type": "markdown",
   "metadata": {},
   "source": [
    "## Run this cell, look at the output for each command to make sure you understand the purpose of each command\n",
    "from sklearn.datasets import load_diabetes\n",
    "import pandas as pd\n",
    "\n",
    "diabetes=load_diabetes()\n",
    "print(diabetes.keys())\n",
    "print(diabetes.DESCR)\n",
    "print(diabetes.feature_names) # these are the column names\n",
    "# attach the feature names to the data as column names\n",
    "df=pd.DataFrame(diabetes.data, columns=diabetes.feature_names)\n",
    "\n"
   ]
  },
  {
   "cell_type": "code",
   "execution_count": 9,
   "metadata": {},
   "outputs": [
    {
     "name": "stdout",
     "output_type": "stream",
     "text": [
      "dict_keys(['data', 'target', 'frame', 'DESCR', 'feature_names', 'data_filename', 'target_filename', 'data_module'])\n",
      ".. _diabetes_dataset:\n",
      "\n",
      "Diabetes dataset\n",
      "----------------\n",
      "\n",
      "Ten baseline variables, age, sex, body mass index, average blood\n",
      "pressure, and six blood serum measurements were obtained for each of n =\n",
      "442 diabetes patients, as well as the response of interest, a\n",
      "quantitative measure of disease progression one year after baseline.\n",
      "\n",
      "**Data Set Characteristics:**\n",
      "\n",
      "  :Number of Instances: 442\n",
      "\n",
      "  :Number of Attributes: First 10 columns are numeric predictive values\n",
      "\n",
      "  :Target: Column 11 is a quantitative measure of disease progression one year after baseline\n",
      "\n",
      "  :Attribute Information:\n",
      "      - age     age in years\n",
      "      - sex\n",
      "      - bmi     body mass index\n",
      "      - bp      average blood pressure\n",
      "      - s1      tc, total serum cholesterol\n",
      "      - s2      ldl, low-density lipoproteins\n",
      "      - s3      hdl, high-density lipoproteins\n",
      "      - s4      tch, total cholesterol / HDL\n",
      "      - s5      ltg, possibly log of serum triglycerides level\n",
      "      - s6      glu, blood sugar level\n",
      "\n",
      "Note: Each of these 10 feature variables have been mean centered and scaled by the standard deviation times the square root of `n_samples` (i.e. the sum of squares of each column totals 1).\n",
      "\n",
      "Source URL:\n",
      "https://www4.stat.ncsu.edu/~boos/var.select/diabetes.html\n",
      "\n",
      "For more information see:\n",
      "Bradley Efron, Trevor Hastie, Iain Johnstone and Robert Tibshirani (2004) \"Least Angle Regression,\" Annals of Statistics (with discussion), 407-499.\n",
      "(https://web.stanford.edu/~hastie/Papers/LARS/LeastAngle_2002.pdf)\n",
      "\n",
      "['age', 'sex', 'bmi', 'bp', 's1', 's2', 's3', 's4', 's5', 's6']\n",
      "        age       sex       bmi        bp        s1        s2        s3  \\\n",
      "0  0.038076  0.050680  0.061696  0.021872 -0.044223 -0.034821 -0.043401   \n",
      "1 -0.001882 -0.044642 -0.051474 -0.026328 -0.008449 -0.019163  0.074412   \n",
      "2  0.085299  0.050680  0.044451 -0.005670 -0.045599 -0.034194 -0.032356   \n",
      "3 -0.089063 -0.044642 -0.011595 -0.036656  0.012191  0.024991 -0.036038   \n",
      "4  0.005383 -0.044642 -0.036385  0.021872  0.003935  0.015596  0.008142   \n",
      "\n",
      "         s4        s5        s6  target  \n",
      "0 -0.002592  0.019907 -0.017646   151.0  \n",
      "1 -0.039493 -0.068332 -0.092204    75.0  \n",
      "2 -0.002592  0.002861 -0.025930   141.0  \n",
      "3  0.034309  0.022688 -0.009362   206.0  \n",
      "4 -0.002592 -0.031988 -0.046641   135.0  \n"
     ]
    }
   ],
   "source": [
    "from sklearn.datasets import load_diabetes\n",
    "import pandas as pd\n",
    "\n",
    "diabetes=load_diabetes() # load the dataset\n",
    "print(diabetes.keys()) \n",
    "print(diabetes.DESCR) \n",
    "print(diabetes.feature_names) # these are the column names\n",
    "\n",
    "df=pd.DataFrame(diabetes.data, columns=diabetes.feature_names)\n",
    "df['target'] = diabetes.target # target variable\n",
    "print(df.head())"
   ]
  },
  {
   "cell_type": "markdown",
   "metadata": {},
   "source": [
    "1. print the number of rows and columns in the dataset using the shape attribute of the dataframe object"
   ]
  },
  {
   "cell_type": "code",
   "execution_count": 3,
   "metadata": {
    "scrolled": true
   },
   "outputs": [
    {
     "name": "stdout",
     "output_type": "stream",
     "text": [
      "(442, 10)\n"
     ]
    }
   ],
   "source": [
    "from sklearn.datasets import load_diabetes\n",
    "import pandas as pd\n",
    "\n",
    "diabetes=load_diabetes() # load the dataset\n",
    "# print(diabetes.keys()) \n",
    "# print(diabetes.DESCR) \n",
    "# print(diabetes.feature_names) # these are the column names\n",
    "\n",
    "df=pd.DataFrame(diabetes.data, columns=diabetes.feature_names)\n",
    "df['target'] = diabetes.target # Add the target variable\n",
    "print(df.shape)"
   ]
  },
  {
   "cell_type": "markdown",
   "metadata": {},
   "source": [
    "2. print the first 5 observations of the dataset. "
   ]
  },
  {
   "cell_type": "code",
   "execution_count": 6,
   "metadata": {},
   "outputs": [
    {
     "name": "stdout",
     "output_type": "stream",
     "text": [
      "        age       sex       bmi        bp        s1        s2        s3  \\\n",
      "0  0.038076  0.050680  0.061696  0.021872 -0.044223 -0.034821 -0.043401   \n",
      "1 -0.001882 -0.044642 -0.051474 -0.026328 -0.008449 -0.019163  0.074412   \n",
      "2  0.085299  0.050680  0.044451 -0.005670 -0.045599 -0.034194 -0.032356   \n",
      "3 -0.089063 -0.044642 -0.011595 -0.036656  0.012191  0.024991 -0.036038   \n",
      "4  0.005383 -0.044642 -0.036385  0.021872  0.003935  0.015596  0.008142   \n",
      "\n",
      "         s4        s5        s6  \n",
      "0 -0.002592  0.019907 -0.017646  \n",
      "1 -0.039493 -0.068332 -0.092204  \n",
      "2 -0.002592  0.002861 -0.025930  \n",
      "3  0.034309  0.022688 -0.009362  \n",
      "4 -0.002592 -0.031988 -0.046641  \n"
     ]
    }
   ],
   "source": [
    "print(df.head())"
   ]
  },
  {
   "cell_type": "markdown",
   "metadata": {},
   "source": [
    "3. print the column names of the dataset "
   ]
  },
  {
   "cell_type": "code",
   "execution_count": 8,
   "metadata": {},
   "outputs": [
    {
     "name": "stdout",
     "output_type": "stream",
     "text": [
      "Index(['age', 'sex', 'bmi', 'bp', 's1', 's2', 's3', 's4', 's5', 's6'], dtype='object')\n"
     ]
    }
   ],
   "source": [
    "print(diabetes.feature_names)\n",
    "# print(df.columns)"
   ]
  },
  {
   "cell_type": "markdown",
   "metadata": {},
   "source": [
    "4. get the dtype of each column"
   ]
  },
  {
   "cell_type": "code",
   "execution_count": 9,
   "metadata": {},
   "outputs": [
    {
     "name": "stdout",
     "output_type": "stream",
     "text": [
      "age    float64\n",
      "sex    float64\n",
      "bmi    float64\n",
      "bp     float64\n",
      "s1     float64\n",
      "s2     float64\n",
      "s3     float64\n",
      "s4     float64\n",
      "s5     float64\n",
      "s6     float64\n",
      "dtype: object\n"
     ]
    }
   ],
   "source": [
    "print(df.dtypes)"
   ]
  },
  {
   "cell_type": "markdown",
   "metadata": {},
   "source": [
    "5. use loc to show the second row of the dataset. "
   ]
  },
  {
   "cell_type": "code",
   "execution_count": 10,
   "metadata": {},
   "outputs": [
    {
     "name": "stdout",
     "output_type": "stream",
     "text": [
      "age   -0.001882\n",
      "sex   -0.044642\n",
      "bmi   -0.051474\n",
      "bp    -0.026328\n",
      "s1    -0.008449\n",
      "s2    -0.019163\n",
      "s3     0.074412\n",
      "s4    -0.039493\n",
      "s5    -0.068332\n",
      "s6    -0.092204\n",
      "Name: 1, dtype: float64\n"
     ]
    }
   ],
   "source": [
    "row2 = df.loc[1]\n",
    "print(row2)"
   ]
  },
  {
   "cell_type": "markdown",
   "metadata": {},
   "source": [
    "6. use loc to show the second, 100th and 150th rows of the dataset"
   ]
  },
  {
   "cell_type": "code",
   "execution_count": 12,
   "metadata": {},
   "outputs": [
    {
     "name": "stdout",
     "output_type": "stream",
     "text": [
      "          age       sex       bmi        bp        s1        s2        s3  \\\n",
      "1   -0.001882 -0.044642 -0.051474 -0.026328 -0.008449 -0.019163  0.074412   \n",
      "99  -0.001882 -0.044642 -0.064408  0.011544  0.027326  0.037517 -0.013948   \n",
      "149 -0.049105  0.050680 -0.005128 -0.046985 -0.020832 -0.020416 -0.069172   \n",
      "\n",
      "           s4        s5        s6  \n",
      "1   -0.039493 -0.068332 -0.092204  \n",
      "99   0.034309  0.011785 -0.054925  \n",
      "149  0.071210  0.061238 -0.038357  \n"
     ]
    }
   ],
   "source": [
    "rows_selected = df.loc[[1, 99, 149]]\n",
    "print(rows_selected)"
   ]
  },
  {
   "cell_type": "markdown",
   "metadata": {},
   "source": [
    "7. use iloc to show the the second and 100th rows of the dataset"
   ]
  },
  {
   "cell_type": "code",
   "execution_count": 13,
   "metadata": {},
   "outputs": [
    {
     "name": "stdout",
     "output_type": "stream",
     "text": [
      "         age       sex       bmi        bp        s1        s2        s3  \\\n",
      "1  -0.001882 -0.044642 -0.051474 -0.026328 -0.008449 -0.019163  0.074412   \n",
      "99 -0.001882 -0.044642 -0.064408  0.011544  0.027326  0.037517 -0.013948   \n",
      "\n",
      "          s4        s5        s6  \n",
      "1  -0.039493 -0.068332 -0.092204  \n",
      "99  0.034309  0.011785 -0.054925  \n"
     ]
    }
   ],
   "source": [
    "rows_sample = df.iloc[[1, 99]]\n",
    "print(rows_sample)"
   ]
  },
  {
   "cell_type": "markdown",
   "metadata": {},
   "source": [
    "8. use loc to show the bmi column of the dataset"
   ]
  },
  {
   "cell_type": "code",
   "execution_count": 16,
   "metadata": {},
   "outputs": [
    {
     "name": "stdout",
     "output_type": "stream",
     "text": [
      "0      0.061696\n",
      "1     -0.051474\n",
      "2      0.044451\n",
      "3     -0.011595\n",
      "4     -0.036385\n",
      "         ...   \n",
      "437    0.019662\n",
      "438   -0.015906\n",
      "439   -0.015906\n",
      "440    0.039062\n",
      "441   -0.073030\n",
      "Name: bmi, Length: 442, dtype: float64\n"
     ]
    }
   ],
   "source": [
    "bmi_column = df.loc[:, 'bmi']\n",
    "print(bmi_column)"
   ]
  },
  {
   "cell_type": "markdown",
   "metadata": {},
   "source": [
    "9. Use loc to show the bmi, bp columns of the dataset"
   ]
  },
  {
   "cell_type": "code",
   "execution_count": 18,
   "metadata": {},
   "outputs": [
    {
     "name": "stdout",
     "output_type": "stream",
     "text": [
      "          bmi        bp\n",
      "0    0.061696  0.021872\n",
      "1   -0.051474 -0.026328\n",
      "2    0.044451 -0.005670\n",
      "3   -0.011595 -0.036656\n",
      "4   -0.036385  0.021872\n",
      "..        ...       ...\n",
      "437  0.019662  0.059744\n",
      "438 -0.015906 -0.067642\n",
      "439 -0.015906  0.017293\n",
      "440  0.039062  0.001215\n",
      "441 -0.073030 -0.081413\n",
      "\n",
      "[442 rows x 2 columns]\n"
     ]
    }
   ],
   "source": [
    "selected_columns = df.loc[:, ['bmi', 'bp']]\n",
    "print(selected_columns)"
   ]
  },
  {
   "cell_type": "markdown",
   "metadata": {},
   "source": [
    "10. use iloc to show the last row of the dataset "
   ]
  },
  {
   "cell_type": "code",
   "execution_count": 19,
   "metadata": {},
   "outputs": [
    {
     "name": "stdout",
     "output_type": "stream",
     "text": [
      "age   -0.045472\n",
      "sex   -0.044642\n",
      "bmi   -0.073030\n",
      "bp    -0.081413\n",
      "s1     0.083740\n",
      "s2     0.027809\n",
      "s3     0.173816\n",
      "s4    -0.039493\n",
      "s5    -0.004222\n",
      "s6     0.003064\n",
      "Name: 441, dtype: float64\n"
     ]
    }
   ],
   "source": [
    "last_row = df.iloc[-1]\n",
    "print(last_row)"
   ]
  },
  {
   "cell_type": "markdown",
   "metadata": {},
   "source": [
    "11. Use iloc to show the last two observations of the dataset"
   ]
  },
  {
   "cell_type": "code",
   "execution_count": 21,
   "metadata": {},
   "outputs": [
    {
     "name": "stdout",
     "output_type": "stream",
     "text": [
      "          age       sex       bmi        bp        s1        s2        s3  \\\n",
      "440 -0.045472 -0.044642  0.039062  0.001215  0.016318  0.015283 -0.028674   \n",
      "441 -0.045472 -0.044642 -0.073030 -0.081413  0.083740  0.027809  0.173816   \n",
      "\n",
      "           s4        s5        s6  \n",
      "440  0.026560  0.044529 -0.025930  \n",
      "441 -0.039493 -0.004222  0.003064  \n"
     ]
    }
   ],
   "source": [
    "last_two_rows = df.iloc[-2:]\n",
    "print(last_two_rows)"
   ]
  },
  {
   "cell_type": "markdown",
   "metadata": {},
   "source": [
    "12. use loc to create a subset of the first 10 obs for age,bmi,bp columns. Then show the first 5 obs of the subset dataframe. "
   ]
  },
  {
   "cell_type": "code",
   "execution_count": 23,
   "metadata": {},
   "outputs": [
    {
     "name": "stdout",
     "output_type": "stream",
     "text": [
      "        age       bmi        bp\n",
      "0  0.038076  0.061696  0.021872\n",
      "1 -0.001882 -0.051474 -0.026328\n",
      "2  0.085299  0.044451 -0.005670\n",
      "3 -0.089063 -0.011595 -0.036656\n",
      "4  0.005383 -0.036385  0.021872\n"
     ]
    }
   ],
   "source": [
    "subset = df.loc[:9, ['age', 'bmi', 'bp']] # create the subset\n",
    "print(subset.head())"
   ]
  },
  {
   "cell_type": "markdown",
   "metadata": {},
   "source": [
    "13. Use iloc and slicing columns method with colon (:) to slice the first 6 columns of the dataset)keep all rows). Save the sliced subset in dataframe subset, then show the first 5 obs of dataframe subset.   "
   ]
  },
  {
   "cell_type": "code",
   "execution_count": 25,
   "metadata": {},
   "outputs": [
    {
     "name": "stdout",
     "output_type": "stream",
     "text": [
      "        age       sex       bmi        bp        s1        s2\n",
      "0  0.038076  0.050680  0.061696  0.021872 -0.044223 -0.034821\n",
      "1 -0.001882 -0.044642 -0.051474 -0.026328 -0.008449 -0.019163\n",
      "2  0.085299  0.050680  0.044451 -0.005670 -0.045599 -0.034194\n",
      "3 -0.089063 -0.044642 -0.011595 -0.036656  0.012191  0.024991\n",
      "4  0.005383 -0.044642 -0.036385  0.021872  0.003935  0.015596\n"
     ]
    }
   ],
   "source": [
    "subset = df.iloc[:, :6]\n",
    "print(subset.head())"
   ]
  },
  {
   "cell_type": "markdown",
   "metadata": {},
   "source": [
    "14. slice columns 3 to 5 inclusive into dataframe subset. then show the first 5 obs of dataframe subset.  "
   ]
  },
  {
   "cell_type": "code",
   "execution_count": 26,
   "metadata": {},
   "outputs": [
    {
     "name": "stdout",
     "output_type": "stream",
     "text": [
      "        bmi        bp        s1        s2\n",
      "0  0.061696  0.021872 -0.044223 -0.034821\n",
      "1 -0.051474 -0.026328 -0.008449 -0.019163\n",
      "2  0.044451 -0.005670 -0.045599 -0.034194\n",
      "3 -0.011595 -0.036656  0.012191  0.024991\n",
      "4 -0.036385  0.021872  0.003935  0.015596\n"
     ]
    }
   ],
   "source": [
    "subset = df.iloc[:, 2:5 + 1]\n",
    "print(subset.head())"
   ]
  },
  {
   "cell_type": "markdown",
   "metadata": {},
   "source": [
    "15. use iloc and slice every other column up to 5 inclusive into a dataframe subset. Then show the first 5 obs of the dataframe subset."
   ]
  },
  {
   "cell_type": "code",
   "execution_count": 28,
   "metadata": {},
   "outputs": [
    {
     "name": "stdout",
     "output_type": "stream",
     "text": [
      "        age       bmi        s1\n",
      "0  0.038076  0.061696 -0.044223\n",
      "1 -0.001882 -0.051474 -0.008449\n",
      "2  0.085299  0.044451 -0.045599\n",
      "3 -0.089063 -0.011595  0.012191\n",
      "4  0.005383 -0.036385  0.003935\n"
     ]
    }
   ],
   "source": [
    "subset = df.iloc[:, :6:2]\n",
    "print(subset.head())"
   ]
  },
  {
   "cell_type": "markdown",
   "metadata": {},
   "source": [
    "16. Use loc to display the age for the 10th row of the dataframe."
   ]
  },
  {
   "cell_type": "code",
   "execution_count": 31,
   "metadata": {},
   "outputs": [
    {
     "name": "stdout",
     "output_type": "stream",
     "text": [
      "-0.07090024709715959\n"
     ]
    }
   ],
   "source": [
    "row_10_age = df.loc[9, 'age']\n",
    "print(row_10_age)"
   ]
  },
  {
   "cell_type": "markdown",
   "metadata": {},
   "source": [
    "17. Use loc to display the bmi for row numbers 100, 200 and 300. "
   ]
  },
  {
   "cell_type": "code",
   "execution_count": 30,
   "metadata": {},
   "outputs": [
    {
     "name": "stdout",
     "output_type": "stream",
     "text": [
      "99    -0.064408\n",
      "199   -0.045007\n",
      "299   -0.013751\n",
      "Name: bmi, dtype: float64\n"
     ]
    }
   ],
   "source": [
    "bmi_selected_rows = df.loc[[99, 199, 299], 'bmi']\n",
    "print(bmi_selected_rows)"
   ]
  },
  {
   "cell_type": "markdown",
   "metadata": {},
   "source": [
    "18. use loc to display the data where age>50. "
   ]
  },
  {
   "cell_type": "code",
   "execution_count": 39,
   "metadata": {},
   "outputs": [
    {
     "name": "stdout",
     "output_type": "stream",
     "text": [
      "0      0.038076\n",
      "1     -0.001882\n",
      "2      0.085299\n",
      "3     -0.089063\n",
      "4      0.005383\n",
      "         ...   \n",
      "437    0.041708\n",
      "438   -0.005515\n",
      "439    0.041708\n",
      "440   -0.045472\n",
      "441   -0.045472\n",
      "Name: age, Length: 442, dtype: float64\n"
     ]
    }
   ],
   "source": [
    "# age_more_than_50 = df.loc[df['age'] > 10, ['age']]\n",
    "# print(age_more_than_50)\n",
    "results = df.loc[:, 'age']\n",
    "print(results) # Why are ages in 0s?"
   ]
  },
  {
   "cell_type": "markdown",
   "metadata": {},
   "source": [
    "19. use loc to display only bmi and bp for the females only."
   ]
  },
  {
   "cell_type": "code",
   "execution_count": null,
   "metadata": {},
   "outputs": [],
   "source": []
  },
  {
   "cell_type": "markdown",
   "metadata": {},
   "source": [
    "20. Get a series of age column from the dataframe object."
   ]
  },
  {
   "cell_type": "code",
   "execution_count": null,
   "metadata": {},
   "outputs": [],
   "source": []
  },
  {
   "cell_type": "markdown",
   "metadata": {},
   "source": [
    "21. print the min, max and mean values for the age series."
   ]
  },
  {
   "cell_type": "code",
   "execution_count": null,
   "metadata": {},
   "outputs": [],
   "source": []
  },
  {
   "cell_type": "markdown",
   "metadata": {},
   "source": [
    "22.print the basic information about age series"
   ]
  },
  {
   "cell_type": "code",
   "execution_count": null,
   "metadata": {},
   "outputs": [],
   "source": []
  },
  {
   "cell_type": "markdown",
   "metadata": {},
   "source": [
    "23.print the subset of ages that are less than mean age value"
   ]
  },
  {
   "cell_type": "code",
   "execution_count": null,
   "metadata": {},
   "outputs": [],
   "source": []
  },
  {
   "cell_type": "markdown",
   "metadata": {},
   "source": [
    "24.Sort the age series and print sorted values."
   ]
  },
  {
   "cell_type": "code",
   "execution_count": null,
   "metadata": {},
   "outputs": [],
   "source": []
  },
  {
   "cell_type": "markdown",
   "metadata": {},
   "source": [
    "25.print all the unique values from the age series."
   ]
  },
  {
   "cell_type": "code",
   "execution_count": null,
   "metadata": {},
   "outputs": [],
   "source": []
  }
 ],
 "metadata": {
  "kernelspec": {
   "display_name": "Python 3 (ipykernel)",
   "language": "python",
   "name": "python3"
  },
  "language_info": {
   "codemirror_mode": {
    "name": "ipython",
    "version": 3
   },
   "file_extension": ".py",
   "mimetype": "text/x-python",
   "name": "python",
   "nbconvert_exporter": "python",
   "pygments_lexer": "ipython3",
   "version": "3.11.5"
  }
 },
 "nbformat": 4,
 "nbformat_minor": 4
}
