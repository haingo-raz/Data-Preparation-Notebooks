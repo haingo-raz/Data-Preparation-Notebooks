{
 "cells": [
  {
   "cell_type": "markdown",
   "metadata": {},
   "source": [
    "##### Apply and Groupby operations"
   ]
  },
  {
   "cell_type": "code",
   "execution_count": 1,
   "metadata": {},
   "outputs": [
    {
     "data": {
      "text/html": [
       "<div>\n",
       "<style scoped>\n",
       "    .dataframe tbody tr th:only-of-type {\n",
       "        vertical-align: middle;\n",
       "    }\n",
       "\n",
       "    .dataframe tbody tr th {\n",
       "        vertical-align: top;\n",
       "    }\n",
       "\n",
       "    .dataframe thead th {\n",
       "        text-align: right;\n",
       "    }\n",
       "</style>\n",
       "<table border=\"1\" class=\"dataframe\">\n",
       "  <thead>\n",
       "    <tr style=\"text-align: right;\">\n",
       "      <th></th>\n",
       "      <th>Neighborhood</th>\n",
       "      <th>Building.Classification</th>\n",
       "      <th>Total.Units</th>\n",
       "      <th>Year.Built</th>\n",
       "      <th>Gross.SqFt</th>\n",
       "      <th>Estimated.Gross.Income</th>\n",
       "      <th>Gross.Income.per.SqFt</th>\n",
       "      <th>Estimated.Expense</th>\n",
       "      <th>Expense.per.SqFt</th>\n",
       "      <th>Net.Operating.Income</th>\n",
       "      <th>Full.Market.Value</th>\n",
       "      <th>Market.Value.per.SqFt</th>\n",
       "      <th>Boro</th>\n",
       "    </tr>\n",
       "  </thead>\n",
       "  <tbody>\n",
       "    <tr>\n",
       "      <th>0</th>\n",
       "      <td>FINANCIAL</td>\n",
       "      <td>R9-CONDOMINIUM</td>\n",
       "      <td>42</td>\n",
       "      <td>1920.0</td>\n",
       "      <td>36500</td>\n",
       "      <td>1332615</td>\n",
       "      <td>36.51</td>\n",
       "      <td>342005</td>\n",
       "      <td>9.37</td>\n",
       "      <td>990610</td>\n",
       "      <td>7300000</td>\n",
       "      <td>200.00</td>\n",
       "      <td>Manhattan</td>\n",
       "    </tr>\n",
       "    <tr>\n",
       "      <th>1</th>\n",
       "      <td>FINANCIAL</td>\n",
       "      <td>R4-CONDOMINIUM</td>\n",
       "      <td>78</td>\n",
       "      <td>1985.0</td>\n",
       "      <td>126420</td>\n",
       "      <td>6633257</td>\n",
       "      <td>52.47</td>\n",
       "      <td>1762295</td>\n",
       "      <td>13.94</td>\n",
       "      <td>4870962</td>\n",
       "      <td>30690000</td>\n",
       "      <td>242.76</td>\n",
       "      <td>Manhattan</td>\n",
       "    </tr>\n",
       "    <tr>\n",
       "      <th>2</th>\n",
       "      <td>FINANCIAL</td>\n",
       "      <td>RR-CONDOMINIUM</td>\n",
       "      <td>500</td>\n",
       "      <td>NaN</td>\n",
       "      <td>554174</td>\n",
       "      <td>17310000</td>\n",
       "      <td>31.24</td>\n",
       "      <td>3543000</td>\n",
       "      <td>6.39</td>\n",
       "      <td>13767000</td>\n",
       "      <td>90970000</td>\n",
       "      <td>164.15</td>\n",
       "      <td>Manhattan</td>\n",
       "    </tr>\n",
       "    <tr>\n",
       "      <th>3</th>\n",
       "      <td>FINANCIAL</td>\n",
       "      <td>R4-CONDOMINIUM</td>\n",
       "      <td>282</td>\n",
       "      <td>1930.0</td>\n",
       "      <td>249076</td>\n",
       "      <td>11776313</td>\n",
       "      <td>47.28</td>\n",
       "      <td>2784670</td>\n",
       "      <td>11.18</td>\n",
       "      <td>8991643</td>\n",
       "      <td>67556006</td>\n",
       "      <td>271.23</td>\n",
       "      <td>Manhattan</td>\n",
       "    </tr>\n",
       "    <tr>\n",
       "      <th>4</th>\n",
       "      <td>TRIBECA</td>\n",
       "      <td>R4-CONDOMINIUM</td>\n",
       "      <td>239</td>\n",
       "      <td>1985.0</td>\n",
       "      <td>219495</td>\n",
       "      <td>10004582</td>\n",
       "      <td>45.58</td>\n",
       "      <td>2783197</td>\n",
       "      <td>12.68</td>\n",
       "      <td>7221385</td>\n",
       "      <td>54320996</td>\n",
       "      <td>247.48</td>\n",
       "      <td>Manhattan</td>\n",
       "    </tr>\n",
       "    <tr>\n",
       "      <th>...</th>\n",
       "      <td>...</td>\n",
       "      <td>...</td>\n",
       "      <td>...</td>\n",
       "      <td>...</td>\n",
       "      <td>...</td>\n",
       "      <td>...</td>\n",
       "      <td>...</td>\n",
       "      <td>...</td>\n",
       "      <td>...</td>\n",
       "      <td>...</td>\n",
       "      <td>...</td>\n",
       "      <td>...</td>\n",
       "      <td>...</td>\n",
       "    </tr>\n",
       "    <tr>\n",
       "      <th>2621</th>\n",
       "      <td>ROSEBANK</td>\n",
       "      <td>R4-CONDOMINIUM</td>\n",
       "      <td>52</td>\n",
       "      <td>NaN</td>\n",
       "      <td>62391</td>\n",
       "      <td>831672</td>\n",
       "      <td>13.33</td>\n",
       "      <td>326305</td>\n",
       "      <td>5.23</td>\n",
       "      <td>505367</td>\n",
       "      <td>3354003</td>\n",
       "      <td>53.76</td>\n",
       "      <td>Staten Island</td>\n",
       "    </tr>\n",
       "    <tr>\n",
       "      <th>2622</th>\n",
       "      <td>ARROCHAR-SHORE ACRES</td>\n",
       "      <td>R4-CONDOMINIUM</td>\n",
       "      <td>102</td>\n",
       "      <td>1987.0</td>\n",
       "      <td>90618</td>\n",
       "      <td>1274089</td>\n",
       "      <td>14.06</td>\n",
       "      <td>637045</td>\n",
       "      <td>7.03</td>\n",
       "      <td>637044</td>\n",
       "      <td>5233000</td>\n",
       "      <td>57.75</td>\n",
       "      <td>Staten Island</td>\n",
       "    </tr>\n",
       "    <tr>\n",
       "      <th>2623</th>\n",
       "      <td>GRANT CITY</td>\n",
       "      <td>R4-CONDOMINIUM</td>\n",
       "      <td>100</td>\n",
       "      <td>1986.0</td>\n",
       "      <td>78903</td>\n",
       "      <td>1321625</td>\n",
       "      <td>16.75</td>\n",
       "      <td>673832</td>\n",
       "      <td>8.54</td>\n",
       "      <td>647793</td>\n",
       "      <td>4687000</td>\n",
       "      <td>59.40</td>\n",
       "      <td>Staten Island</td>\n",
       "    </tr>\n",
       "    <tr>\n",
       "      <th>2624</th>\n",
       "      <td>GRANT CITY</td>\n",
       "      <td>R4-CONDOMINIUM</td>\n",
       "      <td>159</td>\n",
       "      <td>1961.0</td>\n",
       "      <td>166712</td>\n",
       "      <td>2343971</td>\n",
       "      <td>14.06</td>\n",
       "      <td>1171985</td>\n",
       "      <td>7.03</td>\n",
       "      <td>1171986</td>\n",
       "      <td>5967531</td>\n",
       "      <td>35.80</td>\n",
       "      <td>Staten Island</td>\n",
       "    </tr>\n",
       "    <tr>\n",
       "      <th>2625</th>\n",
       "      <td>GREAT KILLS</td>\n",
       "      <td>R4-CONDOMINIUM</td>\n",
       "      <td>67</td>\n",
       "      <td>1965.0</td>\n",
       "      <td>108864</td>\n",
       "      <td>1298748</td>\n",
       "      <td>11.93</td>\n",
       "      <td>722857</td>\n",
       "      <td>6.64</td>\n",
       "      <td>575891</td>\n",
       "      <td>3673011</td>\n",
       "      <td>33.74</td>\n",
       "      <td>Staten Island</td>\n",
       "    </tr>\n",
       "  </tbody>\n",
       "</table>\n",
       "<p>2626 rows × 13 columns</p>\n",
       "</div>"
      ],
      "text/plain": [
       "              Neighborhood Building.Classification  Total.Units  Year.Built  \\\n",
       "0                FINANCIAL          R9-CONDOMINIUM           42      1920.0   \n",
       "1                FINANCIAL          R4-CONDOMINIUM           78      1985.0   \n",
       "2                FINANCIAL          RR-CONDOMINIUM          500         NaN   \n",
       "3                FINANCIAL          R4-CONDOMINIUM          282      1930.0   \n",
       "4                  TRIBECA          R4-CONDOMINIUM          239      1985.0   \n",
       "...                    ...                     ...          ...         ...   \n",
       "2621              ROSEBANK          R4-CONDOMINIUM           52         NaN   \n",
       "2622  ARROCHAR-SHORE ACRES          R4-CONDOMINIUM          102      1987.0   \n",
       "2623            GRANT CITY          R4-CONDOMINIUM          100      1986.0   \n",
       "2624            GRANT CITY          R4-CONDOMINIUM          159      1961.0   \n",
       "2625           GREAT KILLS          R4-CONDOMINIUM           67      1965.0   \n",
       "\n",
       "      Gross.SqFt  Estimated.Gross.Income  Gross.Income.per.SqFt  \\\n",
       "0          36500                 1332615                  36.51   \n",
       "1         126420                 6633257                  52.47   \n",
       "2         554174                17310000                  31.24   \n",
       "3         249076                11776313                  47.28   \n",
       "4         219495                10004582                  45.58   \n",
       "...          ...                     ...                    ...   \n",
       "2621       62391                  831672                  13.33   \n",
       "2622       90618                 1274089                  14.06   \n",
       "2623       78903                 1321625                  16.75   \n",
       "2624      166712                 2343971                  14.06   \n",
       "2625      108864                 1298748                  11.93   \n",
       "\n",
       "      Estimated.Expense  Expense.per.SqFt  Net.Operating.Income  \\\n",
       "0                342005              9.37                990610   \n",
       "1               1762295             13.94               4870962   \n",
       "2               3543000              6.39              13767000   \n",
       "3               2784670             11.18               8991643   \n",
       "4               2783197             12.68               7221385   \n",
       "...                 ...               ...                   ...   \n",
       "2621             326305              5.23                505367   \n",
       "2622             637045              7.03                637044   \n",
       "2623             673832              8.54                647793   \n",
       "2624            1171985              7.03               1171986   \n",
       "2625             722857              6.64                575891   \n",
       "\n",
       "      Full.Market.Value  Market.Value.per.SqFt           Boro  \n",
       "0               7300000                 200.00      Manhattan  \n",
       "1              30690000                 242.76      Manhattan  \n",
       "2              90970000                 164.15      Manhattan  \n",
       "3              67556006                 271.23      Manhattan  \n",
       "4              54320996                 247.48      Manhattan  \n",
       "...                 ...                    ...            ...  \n",
       "2621            3354003                  53.76  Staten Island  \n",
       "2622            5233000                  57.75  Staten Island  \n",
       "2623            4687000                  59.40  Staten Island  \n",
       "2624            5967531                  35.80  Staten Island  \n",
       "2625            3673011                  33.74  Staten Island  \n",
       "\n",
       "[2626 rows x 13 columns]"
      ]
     },
     "execution_count": 1,
     "metadata": {},
     "output_type": "execute_result"
    }
   ],
   "source": [
    "import pandas as pd\n",
    "housing = pd.read_csv('housing.csv')\n",
    "housing"
   ]
  },
  {
   "cell_type": "markdown",
   "metadata": {},
   "source": [
    "#### 1. standarization \n",
    "- Transform the variable Gross.SqFt to its Zscore and \n",
    "- save it into a new column stand_Gross.SqFt. \n",
    "- print the first  obs of stand_Gross.SqFt column. "
   ]
  },
  {
   "cell_type": "code",
   "execution_count": 2,
   "metadata": {},
   "outputs": [
    {
     "name": "stdout",
     "output_type": "stream",
     "text": [
      "0      -0.321278\n",
      "1       0.303182\n",
      "2       3.273773\n",
      "3       1.154982\n",
      "4       0.949553\n",
      "          ...   \n",
      "2621   -0.141475\n",
      "2622    0.054551\n",
      "2623   -0.026805\n",
      "2624    0.582995\n",
      "2625    0.181263\n",
      "Name: stand_Gross.SqFt, Length: 2626, dtype: float64\n"
     ]
    },
    {
     "data": {
      "text/plain": [
       "-0.32127817079397847"
      ]
     },
     "execution_count": 2,
     "metadata": {},
     "output_type": "execute_result"
    }
   ],
   "source": [
    "from scipy.stats import zscore\n",
    "\n",
    "housing['stand_Gross.SqFt'] = zscore(housing['Gross.SqFt'])\n",
    "\n",
    "print(housing['stand_Gross.SqFt'])\n",
    "\n",
    "# First observation\n",
    "housing['stand_Gross.SqFt'].iloc[0]"
   ]
  },
  {
   "cell_type": "markdown",
   "metadata": {},
   "source": [
    "#### 2. define a function \n",
    "- define a function outlierDetectionZ that returns the string literal 'low' if the z-score of the input parameter is less than -3 and return the string literal 'high' if the z-score value is greater than 3"
   ]
  },
  {
   "cell_type": "code",
   "execution_count": 3,
   "metadata": {},
   "outputs": [],
   "source": [
    "def outlierDetectionZ(zScore):\n",
    "    if zScore < -3: \n",
    "        return 'low'\n",
    "    elif zScore > 3: \n",
    "        return 'high'"
   ]
  },
  {
   "cell_type": "markdown",
   "metadata": {},
   "source": [
    "#### 3. Vectorize the function\n",
    "- vectorize outlierDetectionZ function and name the vectorized function as outlierDetectionZ_vec\n",
    "- call the vectorized function with housing['stand_Gross.SqFt'] as argument. Save the return value in a variable lowhigh. \n",
    "- loop through the list lowhigh, and print the obs labels with either low or high and the corresponding row from the dataframe.  "
   ]
  },
  {
   "cell_type": "code",
   "execution_count": 4,
   "metadata": {},
   "outputs": [
    {
     "name": "stdout",
     "output_type": "stream",
     "text": [
      "Observation label: high, row 2\n",
      "Observation label: high, row 11\n",
      "Observation label: high, row 23\n",
      "Observation label: high, row 33\n",
      "Observation label: high, row 81\n",
      "Observation label: high, row 462\n",
      "Observation label: high, row 498\n",
      "Observation label: high, row 606\n",
      "Observation label: high, row 652\n",
      "Observation label: high, row 654\n",
      "Observation label: high, row 656\n",
      "Observation label: high, row 680\n",
      "Observation label: high, row 681\n",
      "Observation label: high, row 683\n",
      "Observation label: high, row 688\n",
      "Observation label: high, row 689\n",
      "Observation label: high, row 722\n",
      "Observation label: high, row 725\n",
      "Observation label: high, row 731\n",
      "Observation label: high, row 732\n",
      "Observation label: high, row 734\n",
      "Observation label: high, row 735\n",
      "Observation label: high, row 756\n",
      "Observation label: high, row 784\n",
      "Observation label: high, row 803\n",
      "Observation label: high, row 808\n",
      "Observation label: high, row 811\n",
      "Observation label: high, row 931\n",
      "Observation label: high, row 1028\n",
      "Observation label: high, row 1128\n",
      "Observation label: high, row 1410\n",
      "Observation label: high, row 2021\n",
      "Observation label: high, row 2472\n",
      "Observation label: high, row 2566\n",
      "Observation label: high, row 2567\n",
      "Observation label: high, row 2568\n"
     ]
    }
   ],
   "source": [
    "import numpy as np\n",
    "\n",
    "# Vectorizing the function\n",
    "outlierDetectionZ_vec = np.vectorize(outlierDetectionZ)\n",
    "\n",
    "lowhigh = outlierDetectionZ_vec(housing['stand_Gross.SqFt'])\n",
    "\n",
    "for i, value in enumerate(lowhigh):\n",
    "    if value == 'low' or value == 'high':\n",
    "        print(f'Observation label: {value}, row {i}')"
   ]
  },
  {
   "cell_type": "markdown",
   "metadata": {},
   "source": [
    "#### 4. Use apply \n",
    "- Instead of vectorizing the function, use apply on housing['stand_Gross.SqFt'] and pass outlierDetectionZ as argument to get obs with labels high/low. \n",
    "- show the obs that have labels low or high (as per the previous question)"
   ]
  },
  {
   "cell_type": "code",
   "execution_count": 5,
   "metadata": {},
   "outputs": [
    {
     "name": "stdout",
     "output_type": "stream",
     "text": [
      "Observation label: high, row 2\n",
      "Observation label: high, row 11\n",
      "Observation label: high, row 23\n",
      "Observation label: high, row 33\n",
      "Observation label: high, row 81\n",
      "Observation label: high, row 462\n",
      "Observation label: high, row 498\n",
      "Observation label: high, row 606\n",
      "Observation label: high, row 652\n",
      "Observation label: high, row 654\n",
      "Observation label: high, row 656\n",
      "Observation label: high, row 680\n",
      "Observation label: high, row 681\n",
      "Observation label: high, row 683\n",
      "Observation label: high, row 688\n",
      "Observation label: high, row 689\n",
      "Observation label: high, row 722\n",
      "Observation label: high, row 725\n",
      "Observation label: high, row 731\n",
      "Observation label: high, row 732\n",
      "Observation label: high, row 734\n",
      "Observation label: high, row 735\n",
      "Observation label: high, row 756\n",
      "Observation label: high, row 784\n",
      "Observation label: high, row 803\n",
      "Observation label: high, row 808\n",
      "Observation label: high, row 811\n",
      "Observation label: high, row 931\n",
      "Observation label: high, row 1028\n",
      "Observation label: high, row 1128\n",
      "Observation label: high, row 1410\n",
      "Observation label: high, row 2021\n",
      "Observation label: high, row 2472\n",
      "Observation label: high, row 2566\n",
      "Observation label: high, row 2567\n",
      "Observation label: high, row 2568\n"
     ]
    }
   ],
   "source": [
    "lowhigh = housing['stand_Gross.SqFt'].apply(outlierDetectionZ)\n",
    "\n",
    "for i, value in enumerate(lowhigh):\n",
    "    if value == 'low' or value == 'high':\n",
    "        print(f'Observation label: {value}, row {i}')"
   ]
  },
  {
   "cell_type": "markdown",
   "metadata": {},
   "source": [
    "#### 5.  Use apply and lambda function \n",
    "- on the stand_Gross.SqFt column, call apply with lambda function. \n",
    "- the lambda function returns 'outlier' when the z-score is lower than -3 or larger than 3, and none otherwise."
   ]
  },
  {
   "cell_type": "code",
   "execution_count": 6,
   "metadata": {},
   "outputs": [
    {
     "data": {
      "text/plain": [
       "0          none\n",
       "1          none\n",
       "2       outlier\n",
       "3          none\n",
       "4          none\n",
       "         ...   \n",
       "2621       none\n",
       "2622       none\n",
       "2623       none\n",
       "2624       none\n",
       "2625       none\n",
       "Name: stand_Gross.SqFt, Length: 2626, dtype: object"
      ]
     },
     "execution_count": 6,
     "metadata": {},
     "output_type": "execute_result"
    }
   ],
   "source": [
    "housing['stand_Gross.SqFt'].apply(lambda x: 'outlier' if x<-3 or x>3 else 'none')"
   ]
  },
  {
   "cell_type": "markdown",
   "metadata": {},
   "source": [
    "#### 6. Use group by and aggregate functions. \n",
    "    6.1. Show the average full market value per boro.\n",
    "\n",
    "    6.2. Show the average full market value per boro and Neighborhood\n",
    "\n",
    "    6.3. show the average, min and max full market value per boro and Neighborhood. Use agg function and rename the columns as min Market val, max market val and avg market val and also flatten the dataframe.\n"
   ]
  },
  {
   "cell_type": "code",
   "execution_count": 7,
   "metadata": {},
   "outputs": [
    {
     "data": {
      "text/plain": [
       "Boro\n",
       "Bronx            6.330082e+06\n",
       "Brooklyn         3.028974e+06\n",
       "Manhattan        2.143214e+07\n",
       "Queens           4.167439e+06\n",
       "Staten Island    3.313400e+06\n",
       "Name: Full.Market.Value, dtype: float64"
      ]
     },
     "execution_count": 7,
     "metadata": {},
     "output_type": "execute_result"
    }
   ],
   "source": [
    "average_full_market_per_boro = housing.groupby('Boro')['Full.Market.Value'].mean()\n",
    "average_full_market_per_boro"
   ]
  },
  {
   "cell_type": "code",
   "execution_count": 8,
   "metadata": {},
   "outputs": [
    {
     "data": {
      "text/plain": [
       "Boro           Neighborhood        \n",
       "Bronx          BEDFORD PARK/NORWOOD     1816498.0\n",
       "               BELMONT                  2752000.0\n",
       "               BRONX-UNKNOWN           74391091.5\n",
       "               BRONXDALE                3125671.0\n",
       "               CITY ISLAND               678001.0\n",
       "                                          ...    \n",
       "Staten Island  ROSEBANK                 3354003.0\n",
       "               SILVER LAKE              2077903.0\n",
       "               SUNNYSIDE                2340743.0\n",
       "               TOMPKINSVILLE            5697922.0\n",
       "               WEST NEW BRIGHTON        1148655.0\n",
       "Name: Full.Market.Value, Length: 152, dtype: float64"
      ]
     },
     "execution_count": 8,
     "metadata": {},
     "output_type": "execute_result"
    }
   ],
   "source": [
    "average_fm_per_boro_neigh = housing.groupby(['Boro', 'Neighborhood'])['Full.Market.Value'].mean()\n",
    "average_fm_per_boro_neigh"
   ]
  },
  {
   "cell_type": "code",
   "execution_count": 9,
   "metadata": {},
   "outputs": [
    {
     "data": {
      "text/html": [
       "<div>\n",
       "<style scoped>\n",
       "    .dataframe tbody tr th:only-of-type {\n",
       "        vertical-align: middle;\n",
       "    }\n",
       "\n",
       "    .dataframe tbody tr th {\n",
       "        vertical-align: top;\n",
       "    }\n",
       "\n",
       "    .dataframe thead th {\n",
       "        text-align: right;\n",
       "    }\n",
       "</style>\n",
       "<table border=\"1\" class=\"dataframe\">\n",
       "  <thead>\n",
       "    <tr style=\"text-align: right;\">\n",
       "      <th></th>\n",
       "      <th>Boro</th>\n",
       "      <th>Neighborhood</th>\n",
       "      <th>avg market val</th>\n",
       "      <th>min market val</th>\n",
       "      <th>max market val</th>\n",
       "    </tr>\n",
       "  </thead>\n",
       "  <tbody>\n",
       "    <tr>\n",
       "      <th>0</th>\n",
       "      <td>Bronx</td>\n",
       "      <td>BEDFORD PARK/NORWOOD</td>\n",
       "      <td>1816498.0</td>\n",
       "      <td>651996</td>\n",
       "      <td>2981000</td>\n",
       "    </tr>\n",
       "    <tr>\n",
       "      <th>1</th>\n",
       "      <td>Bronx</td>\n",
       "      <td>BELMONT</td>\n",
       "      <td>2752000.0</td>\n",
       "      <td>2752000</td>\n",
       "      <td>2752000</td>\n",
       "    </tr>\n",
       "    <tr>\n",
       "      <th>2</th>\n",
       "      <td>Bronx</td>\n",
       "      <td>BRONX-UNKNOWN</td>\n",
       "      <td>74391091.5</td>\n",
       "      <td>56470051</td>\n",
       "      <td>92312132</td>\n",
       "    </tr>\n",
       "    <tr>\n",
       "      <th>3</th>\n",
       "      <td>Bronx</td>\n",
       "      <td>BRONXDALE</td>\n",
       "      <td>3125671.0</td>\n",
       "      <td>2827000</td>\n",
       "      <td>3424007</td>\n",
       "    </tr>\n",
       "    <tr>\n",
       "      <th>4</th>\n",
       "      <td>Bronx</td>\n",
       "      <td>CITY ISLAND</td>\n",
       "      <td>678001.0</td>\n",
       "      <td>678001</td>\n",
       "      <td>678001</td>\n",
       "    </tr>\n",
       "    <tr>\n",
       "      <th>...</th>\n",
       "      <td>...</td>\n",
       "      <td>...</td>\n",
       "      <td>...</td>\n",
       "      <td>...</td>\n",
       "      <td>...</td>\n",
       "    </tr>\n",
       "    <tr>\n",
       "      <th>147</th>\n",
       "      <td>Staten Island</td>\n",
       "      <td>ROSEBANK</td>\n",
       "      <td>3354003.0</td>\n",
       "      <td>3354003</td>\n",
       "      <td>3354003</td>\n",
       "    </tr>\n",
       "    <tr>\n",
       "      <th>148</th>\n",
       "      <td>Staten Island</td>\n",
       "      <td>SILVER LAKE</td>\n",
       "      <td>2077903.0</td>\n",
       "      <td>1845800</td>\n",
       "      <td>2310006</td>\n",
       "    </tr>\n",
       "    <tr>\n",
       "      <th>149</th>\n",
       "      <td>Staten Island</td>\n",
       "      <td>SUNNYSIDE</td>\n",
       "      <td>2340743.0</td>\n",
       "      <td>2340743</td>\n",
       "      <td>2340743</td>\n",
       "    </tr>\n",
       "    <tr>\n",
       "      <th>150</th>\n",
       "      <td>Staten Island</td>\n",
       "      <td>TOMPKINSVILLE</td>\n",
       "      <td>5697922.0</td>\n",
       "      <td>5697922</td>\n",
       "      <td>5697922</td>\n",
       "    </tr>\n",
       "    <tr>\n",
       "      <th>151</th>\n",
       "      <td>Staten Island</td>\n",
       "      <td>WEST NEW BRIGHTON</td>\n",
       "      <td>1148655.0</td>\n",
       "      <td>1148655</td>\n",
       "      <td>1148655</td>\n",
       "    </tr>\n",
       "  </tbody>\n",
       "</table>\n",
       "<p>152 rows × 5 columns</p>\n",
       "</div>"
      ],
      "text/plain": [
       "              Boro          Neighborhood  avg market val  min market val  \\\n",
       "0            Bronx  BEDFORD PARK/NORWOOD       1816498.0          651996   \n",
       "1            Bronx               BELMONT       2752000.0         2752000   \n",
       "2            Bronx         BRONX-UNKNOWN      74391091.5        56470051   \n",
       "3            Bronx             BRONXDALE       3125671.0         2827000   \n",
       "4            Bronx           CITY ISLAND        678001.0          678001   \n",
       "..             ...                   ...             ...             ...   \n",
       "147  Staten Island              ROSEBANK       3354003.0         3354003   \n",
       "148  Staten Island           SILVER LAKE       2077903.0         1845800   \n",
       "149  Staten Island             SUNNYSIDE       2340743.0         2340743   \n",
       "150  Staten Island         TOMPKINSVILLE       5697922.0         5697922   \n",
       "151  Staten Island     WEST NEW BRIGHTON       1148655.0         1148655   \n",
       "\n",
       "     max market val  \n",
       "0           2981000  \n",
       "1           2752000  \n",
       "2          92312132  \n",
       "3           3424007  \n",
       "4            678001  \n",
       "..              ...  \n",
       "147         3354003  \n",
       "148         2310006  \n",
       "149         2340743  \n",
       "150         5697922  \n",
       "151         1148655  \n",
       "\n",
       "[152 rows x 5 columns]"
      ]
     },
     "execution_count": 9,
     "metadata": {},
     "output_type": "execute_result"
    }
   ],
   "source": [
    "market_value_res = housing.groupby(['Boro', 'Neighborhood'])['Full.Market.Value'].agg(['mean','min', 'max']).rename(columns={'mean': 'avg market val',\n",
    "    'min': 'min market val',\n",
    "    'max': 'max market val'}).reset_index()\n",
    "\n",
    "market_value_res"
   ]
  },
  {
   "cell_type": "markdown",
   "metadata": {},
   "source": [
    "#### 7. grouped zscore versus nongrouped zscore. \n",
    "    7.1. Calculate a grouped zscore for full market value per Boro.  \n",
    "    7.2. Also calculate a non-grouped zscore for full market value. \n",
    "    7.3. Show the first 5 obs of each series. "
   ]
  },
  {
   "cell_type": "code",
   "execution_count": 10,
   "metadata": {},
   "outputs": [
    {
     "data": {
      "text/plain": [
       "0      -0.475535\n",
       "1       0.311519\n",
       "2       2.339892\n",
       "3       1.552030\n",
       "4       1.106683\n",
       "          ...   \n",
       "2621    0.018567\n",
       "2622    0.877800\n",
       "2623    0.628124\n",
       "2624    1.213689\n",
       "2625    0.164444\n",
       "Name: Full.Market.Value, Length: 2626, dtype: float64"
      ]
     },
     "execution_count": 10,
     "metadata": {},
     "output_type": "execute_result"
    }
   ],
   "source": [
    "grouped_zScore = housing.groupby('Boro')['Full.Market.Value'].transform(lambda x: zscore(x))\n",
    "grouped_zScore"
   ]
  },
  {
   "cell_type": "code",
   "execution_count": 11,
   "metadata": {},
   "outputs": [
    {
     "data": {
      "text/plain": [
       "0      -0.239159\n",
       "1       0.746067\n",
       "2       3.285159\n",
       "3       2.298924\n",
       "4       1.741443\n",
       "          ...   \n",
       "2621   -0.405370\n",
       "2622   -0.326224\n",
       "2623   -0.349222\n",
       "2624   -0.295284\n",
       "2625   -0.391933\n",
       "Name: Full.Market.Value, Length: 2626, dtype: float64"
      ]
     },
     "execution_count": 11,
     "metadata": {},
     "output_type": "execute_result"
    }
   ],
   "source": [
    "non_grouped_zScore = zscore(housing['Full.Market.Value'])\n",
    "non_grouped_zScore"
   ]
  },
  {
   "cell_type": "code",
   "execution_count": 19,
   "metadata": {},
   "outputs": [
    {
     "data": {
      "text/plain": [
       "0      -0.239159\n",
       "1       0.746067\n",
       "2       3.285159\n",
       "3       2.298924\n",
       "4       1.741443\n",
       "          ...   \n",
       "2621   -0.405370\n",
       "2622   -0.326224\n",
       "2623   -0.349222\n",
       "2624   -0.295284\n",
       "2625   -0.391933\n",
       "Name: Full.Market.Value, Length: 2626, dtype: float64"
      ]
     },
     "execution_count": 19,
     "metadata": {},
     "output_type": "execute_result"
    }
   ],
   "source": [
    "non_grouped = housing['Full.Market.Value'].transform(lambda x: zscore(x))\n",
    "non_grouped"
   ]
  },
  {
   "cell_type": "code",
   "execution_count": 12,
   "metadata": {},
   "outputs": [
    {
     "name": "stdout",
     "output_type": "stream",
     "text": [
      "0   -0.475535\n",
      "1    0.311519\n",
      "2    2.339892\n",
      "3    1.552030\n",
      "4    1.106683\n",
      "Name: Full.Market.Value, dtype: float64\n",
      "0   -0.239159\n",
      "1    0.746067\n",
      "2    3.285159\n",
      "3    2.298924\n",
      "4    1.741443\n",
      "Name: Full.Market.Value, dtype: float64\n"
     ]
    }
   ],
   "source": [
    "print(grouped_zScore.head())\n",
    "\n",
    "print(non_grouped_zScore.head())"
   ]
  },
  {
   "cell_type": "markdown",
   "metadata": {},
   "source": [
    "#### 8. Filter rows based on conditions on groups\n",
    "    8.1. show the frequency count (number of houses) per Boro. (use value_counts() method) \n",
    "    8.2. filter out the houses that belong to a Boro with a frequency count less than 100. name the new dataframe as housing_filtered \n",
    "    8.3. show the frequency count (number of houses) per Boro in the filtered_housing dataframe. \n"
   ]
  },
  {
   "cell_type": "code",
   "execution_count": 13,
   "metadata": {},
   "outputs": [
    {
     "data": {
      "text/plain": [
       "Manhattan        1380\n",
       "Brooklyn          717\n",
       "Queens            434\n",
       "Bronx              69\n",
       "Staten Island      26\n",
       "Name: Boro, dtype: int64"
      ]
     },
     "execution_count": 13,
     "metadata": {},
     "output_type": "execute_result"
    }
   ],
   "source": [
    "house_freq_count = housing['Boro'].value_counts()\n",
    "house_freq_count"
   ]
  },
  {
   "cell_type": "code",
   "execution_count": 14,
   "metadata": {},
   "outputs": [],
   "source": [
    "housing_filtered = house_freq_count.loc[house_freq_count < 100]"
   ]
  },
  {
   "cell_type": "code",
   "execution_count": 15,
   "metadata": {},
   "outputs": [
    {
     "data": {
      "text/plain": [
       "Bronx            69\n",
       "Staten Island    26\n",
       "Name: Boro, dtype: int64"
      ]
     },
     "execution_count": 15,
     "metadata": {},
     "output_type": "execute_result"
    }
   ],
   "source": [
    "filtered_housing = housing_filtered\n",
    "filtered_housing"
   ]
  },
  {
   "cell_type": "markdown",
   "metadata": {},
   "source": [
    "#### 9. Calculate the mean of Gross.SqFt and Estimated.Gross.Income by  Boro and Neighborhood\n",
    "    - define a variable groups that holds grouped dataframe by Boro and Neighborhood. include only the Boro, Neighborhood, Gross.SqFt and Estimated.Gross.Income columns from the original dataset. \n",
    "    - show the mean of Gross.SqFt and Estimated.Gross.Income per group.   "
   ]
  },
  {
   "cell_type": "code",
   "execution_count": 16,
   "metadata": {},
   "outputs": [
    {
     "data": {
      "text/html": [
       "<div>\n",
       "<style scoped>\n",
       "    .dataframe tbody tr th:only-of-type {\n",
       "        vertical-align: middle;\n",
       "    }\n",
       "\n",
       "    .dataframe tbody tr th {\n",
       "        vertical-align: top;\n",
       "    }\n",
       "\n",
       "    .dataframe thead th {\n",
       "        text-align: right;\n",
       "    }\n",
       "</style>\n",
       "<table border=\"1\" class=\"dataframe\">\n",
       "  <thead>\n",
       "    <tr style=\"text-align: right;\">\n",
       "      <th></th>\n",
       "      <th></th>\n",
       "      <th>Gross.SqFt</th>\n",
       "      <th>Estimated.Gross.Income</th>\n",
       "    </tr>\n",
       "    <tr>\n",
       "      <th>Boro</th>\n",
       "      <th>Neighborhood</th>\n",
       "      <th></th>\n",
       "      <th></th>\n",
       "    </tr>\n",
       "  </thead>\n",
       "  <tbody>\n",
       "    <tr>\n",
       "      <th rowspan=\"5\" valign=\"top\">Bronx</th>\n",
       "      <th>BEDFORD PARK/NORWOOD</th>\n",
       "      <td>4.827900e+04</td>\n",
       "      <td>562398.5</td>\n",
       "    </tr>\n",
       "    <tr>\n",
       "      <th>BELMONT</th>\n",
       "      <td>4.875000e+04</td>\n",
       "      <td>812175.0</td>\n",
       "    </tr>\n",
       "    <tr>\n",
       "      <th>BRONX-UNKNOWN</th>\n",
       "      <td>2.295597e+06</td>\n",
       "      <td>26939916.0</td>\n",
       "    </tr>\n",
       "    <tr>\n",
       "      <th>BRONXDALE</th>\n",
       "      <td>1.096907e+05</td>\n",
       "      <td>1016980.0</td>\n",
       "    </tr>\n",
       "    <tr>\n",
       "      <th>CITY ISLAND</th>\n",
       "      <td>1.660500e+04</td>\n",
       "      <td>218190.0</td>\n",
       "    </tr>\n",
       "    <tr>\n",
       "      <th>...</th>\n",
       "      <th>...</th>\n",
       "      <td>...</td>\n",
       "      <td>...</td>\n",
       "    </tr>\n",
       "    <tr>\n",
       "      <th rowspan=\"5\" valign=\"top\">Staten Island</th>\n",
       "      <th>ROSEBANK</th>\n",
       "      <td>6.239100e+04</td>\n",
       "      <td>831672.0</td>\n",
       "    </tr>\n",
       "    <tr>\n",
       "      <th>SILVER LAKE</th>\n",
       "      <td>5.802600e+04</td>\n",
       "      <td>739582.0</td>\n",
       "    </tr>\n",
       "    <tr>\n",
       "      <th>SUNNYSIDE</th>\n",
       "      <td>6.539200e+04</td>\n",
       "      <td>857943.0</td>\n",
       "    </tr>\n",
       "    <tr>\n",
       "      <th>TOMPKINSVILLE</th>\n",
       "      <td>1.590960e+05</td>\n",
       "      <td>1942562.0</td>\n",
       "    </tr>\n",
       "    <tr>\n",
       "      <th>WEST NEW BRIGHTON</th>\n",
       "      <td>2.894300e+04</td>\n",
       "      <td>406939.0</td>\n",
       "    </tr>\n",
       "  </tbody>\n",
       "</table>\n",
       "<p>152 rows × 2 columns</p>\n",
       "</div>"
      ],
      "text/plain": [
       "                                      Gross.SqFt  Estimated.Gross.Income\n",
       "Boro          Neighborhood                                              \n",
       "Bronx         BEDFORD PARK/NORWOOD  4.827900e+04                562398.5\n",
       "              BELMONT               4.875000e+04                812175.0\n",
       "              BRONX-UNKNOWN         2.295597e+06              26939916.0\n",
       "              BRONXDALE             1.096907e+05               1016980.0\n",
       "              CITY ISLAND           1.660500e+04                218190.0\n",
       "...                                          ...                     ...\n",
       "Staten Island ROSEBANK              6.239100e+04                831672.0\n",
       "              SILVER LAKE           5.802600e+04                739582.0\n",
       "              SUNNYSIDE             6.539200e+04                857943.0\n",
       "              TOMPKINSVILLE         1.590960e+05               1942562.0\n",
       "              WEST NEW BRIGHTON     2.894300e+04                406939.0\n",
       "\n",
       "[152 rows x 2 columns]"
      ]
     },
     "execution_count": 16,
     "metadata": {},
     "output_type": "execute_result"
    }
   ],
   "source": [
    "groups = housing[['Boro', 'Neighborhood', 'Gross.SqFt', 'Estimated.Gross.Income']].groupby(['Boro', 'Neighborhood'])\n",
    "\n",
    "groups.mean()"
   ]
  },
  {
   "cell_type": "markdown",
   "metadata": {},
   "source": [
    "#### 10. Iterate through the groups and print the gross square feet for Bronx boro in BEDFORD PARK/NORWOOD. \n",
    "    The output should be as follows: \n",
    "        the gross square Feet for Bronx in BEDFORD PARK/NORWOOD is: 79920"
   ]
  },
  {
   "cell_type": "code",
   "execution_count": 17,
   "metadata": {},
   "outputs": [
    {
     "name": "stdout",
     "output_type": "stream",
     "text": [
      "The gross square Feet for Bronx in BEDFORD PARK/NORWOOD is: 79920\n"
     ]
    }
   ],
   "source": [
    "for i, group in groups:\n",
    "    if i == ('Bronx', 'BEDFORD PARK/NORWOOD'):\n",
    "        print(f\"The gross square Feet for Bronx in BEDFORD PARK/NORWOOD is: {group['Gross.SqFt'].max()}\")"
   ]
  }
 ],
 "metadata": {
  "kernelspec": {
   "display_name": "Python 3 (ipykernel)",
   "language": "python",
   "name": "python3"
  },
  "language_info": {
   "codemirror_mode": {
    "name": "ipython",
    "version": 3
   },
   "file_extension": ".py",
   "mimetype": "text/x-python",
   "name": "python",
   "nbconvert_exporter": "python",
   "pygments_lexer": "ipython3",
   "version": "3.11.5"
  }
 },
 "nbformat": 4,
 "nbformat_minor": 4
}
