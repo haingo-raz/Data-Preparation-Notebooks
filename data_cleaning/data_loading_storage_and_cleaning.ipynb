{
 "cells": [
  {
   "cell_type": "markdown",
   "metadata": {},
   "source": [
    "#### Data Loading, Storage, Cleaning and Assembly with Python"
   ]
  },
  {
   "cell_type": "code",
   "execution_count": 4,
   "metadata": {},
   "outputs": [],
   "source": [
    "import numpy as np\n",
    "import pandas as pd"
   ]
  },
  {
   "cell_type": "markdown",
   "metadata": {},
   "source": [
    "Load customer.csv file into dataframe customer, print the data."
   ]
  },
  {
   "cell_type": "code",
   "execution_count": 5,
   "metadata": {},
   "outputs": [
    {
     "name": "stdout",
     "output_type": "stream",
     "text": [
      "   CUS_CODE CUS_LNAME CUS_FNAME\n",
      "0     10010     Ramas    Alfred\n",
      "1     10011     Dunne     Leona\n",
      "2     10012     Smith     Kathy\n",
      "3     10013   Olowski      Paul\n",
      "4     10014   Orlando     Myron\n",
      "5     10015   O'Brian       Amy\n",
      "6     10016     Brown     James\n",
      "7     10017  Williams    George\n",
      "8     10018   Farriss      Anne\n",
      "9     10019     Smith    Olette\n"
     ]
    }
   ],
   "source": [
    "df_cus = pd.read_csv('customer.csv')\n",
    "\n",
    "# Remove unnamed column\n",
    "df_cus.drop(df_cus.filter(regex=\"Unname\"),axis=1, inplace=True)\n",
    "\n",
    "print(df_cus)"
   ]
  },
  {
   "cell_type": "markdown",
   "metadata": {},
   "source": [
    "Load invoice.csv file into dataframe invoice, print the data. "
   ]
  },
  {
   "cell_type": "code",
   "execution_count": 6,
   "metadata": {},
   "outputs": [
    {
     "name": "stdout",
     "output_type": "stream",
     "text": [
      "   INV_NUMBER  CUS_CODE    INV_DATE\n",
      "0        1001     10014  2012-01-16\n",
      "1        1002     10011  2012-01-16\n",
      "2        1003     10012  2012-01-16\n",
      "3        1004     10011  2012-01-17\n",
      "4        1005     10018  2012-01-17\n",
      "5        1006     10014  2012-01-17\n",
      "6        1007     10015  2012-01-17\n",
      "7        1008     10011  2012-01-17\n"
     ]
    }
   ],
   "source": [
    "df_inv = pd.read_csv('invoice.csv')\n",
    "\n",
    "# Remove unnamed column\n",
    "df_inv.drop(df_inv.filter(regex=\"Unname\"),axis=1, inplace=True)\n",
    "\n",
    "print(df_inv)"
   ]
  },
  {
   "cell_type": "markdown",
   "metadata": {},
   "source": [
    "Count the number of invoices per customer from the invoice dataframe. Hint: call value_counts() function on CUS_CODE in dataframe invoice and print the result. value_counts() returns a dictionary of the list of unique values and the frequency of each. "
   ]
  },
  {
   "cell_type": "code",
   "execution_count": 7,
   "metadata": {},
   "outputs": [
    {
     "name": "stdout",
     "output_type": "stream",
     "text": [
      "10011    3\n",
      "10014    2\n",
      "10012    1\n",
      "10018    1\n",
      "10015    1\n",
      "Name: CUS_CODE, dtype: int64\n"
     ]
    }
   ],
   "source": [
    "num_inv_per_customer = df_inv['CUS_CODE'].value_counts()\n",
    "print(num_inv_per_customer)"
   ]
  },
  {
   "cell_type": "markdown",
   "metadata": {
    "vscode": {
     "languageId": "bat"
    }
   },
   "source": [
    "Add the following row in dataframe customer: 10020 Smith James that correspond to customer code, last name and first name respectively. Then print dataframe customer. \n",
    " "
   ]
  },
  {
   "cell_type": "code",
   "execution_count": 10,
   "metadata": {},
   "outputs": [
    {
     "name": "stdout",
     "output_type": "stream",
     "text": [
      "    CUS_CODE CUS_LNAME CUS_FNAME\n",
      "0      10010     Ramas    Alfred\n",
      "1      10011     Dunne     Leona\n",
      "2      10012     Smith     Kathy\n",
      "3      10013   Olowski      Paul\n",
      "4      10014   Orlando     Myron\n",
      "5      10015   O'Brian       Amy\n",
      "6      10016     Brown     James\n",
      "7      10017  Williams    George\n",
      "8      10018   Farriss      Anne\n",
      "9      10019     Smith    Olette\n",
      "10     10020     Smith     James\n"
     ]
    }
   ],
   "source": [
    "df1 = pd.DataFrame([[10020, 'Smith', 'James']], columns=['CUS_CODE','CUS_LNAME','CUS_FNAME'])\n",
    "df_cus = pd.concat([df_cus, df1]).reset_index(drop=True)\n",
    "\n",
    "print(df_cus)"
   ]
  },
  {
   "cell_type": "markdown",
   "metadata": {},
   "source": [
    "Merge the customer and invoice dataframes and show all customers from dataframe customer."
   ]
  },
  {
   "cell_type": "code",
   "execution_count": 11,
   "metadata": {},
   "outputs": [
    {
     "name": "stdout",
     "output_type": "stream",
     "text": [
      "    CUS_CODE CUS_LNAME CUS_FNAME  INV_NUMBER    INV_DATE\n",
      "0      10010     Ramas    Alfred         NaN         NaN\n",
      "1      10011     Dunne     Leona      1002.0  2012-01-16\n",
      "2      10011     Dunne     Leona      1004.0  2012-01-17\n",
      "3      10011     Dunne     Leona      1008.0  2012-01-17\n",
      "4      10012     Smith     Kathy      1003.0  2012-01-16\n",
      "5      10013   Olowski      Paul         NaN         NaN\n",
      "6      10014   Orlando     Myron      1001.0  2012-01-16\n",
      "7      10014   Orlando     Myron      1006.0  2012-01-17\n",
      "8      10015   O'Brian       Amy      1007.0  2012-01-17\n",
      "9      10016     Brown     James         NaN         NaN\n",
      "10     10017  Williams    George         NaN         NaN\n",
      "11     10018   Farriss      Anne      1005.0  2012-01-17\n",
      "12     10019     Smith    Olette         NaN         NaN\n",
      "13     10020     Smith     James         NaN         NaN\n"
     ]
    }
   ],
   "source": [
    "cus_inv1 = df_cus.merge(df_inv, on='CUS_CODE', how='left')\n",
    "print(cus_inv1)"
   ]
  },
  {
   "cell_type": "markdown",
   "metadata": {},
   "source": [
    "Merge the customer and invoice dataframes and show all matched and unmatched rows from both dataframes."
   ]
  },
  {
   "cell_type": "code",
   "execution_count": 12,
   "metadata": {},
   "outputs": [
    {
     "name": "stdout",
     "output_type": "stream",
     "text": [
      "    CUS_CODE CUS_LNAME CUS_FNAME  INV_NUMBER    INV_DATE\n",
      "0      10010     Ramas    Alfred         NaN         NaN\n",
      "1      10011     Dunne     Leona      1002.0  2012-01-16\n",
      "2      10011     Dunne     Leona      1004.0  2012-01-17\n",
      "3      10011     Dunne     Leona      1008.0  2012-01-17\n",
      "4      10012     Smith     Kathy      1003.0  2012-01-16\n",
      "5      10013   Olowski      Paul         NaN         NaN\n",
      "6      10014   Orlando     Myron      1001.0  2012-01-16\n",
      "7      10014   Orlando     Myron      1006.0  2012-01-17\n",
      "8      10015   O'Brian       Amy      1007.0  2012-01-17\n",
      "9      10016     Brown     James         NaN         NaN\n",
      "10     10017  Williams    George         NaN         NaN\n",
      "11     10018   Farriss      Anne      1005.0  2012-01-17\n",
      "12     10019     Smith    Olette         NaN         NaN\n"
     ]
    }
   ],
   "source": [
    "cus_inv2 = df_cus.merge(df_inv, on='CUS_CODE', how='outer')\n",
    "print(cus_inv2)"
   ]
  },
  {
   "cell_type": "markdown",
   "metadata": {},
   "source": [
    "Merge the two dataframes customer and invoice into dataframe customerInvoice using inner jcus_inv1oin. "
   ]
  },
  {
   "cell_type": "code",
   "execution_count": 8,
   "metadata": {},
   "outputs": [
    {
     "name": "stdout",
     "output_type": "stream",
     "text": [
      "   CUS_CODE CUS_LNAME CUS_FNAME  INV_NUMBER    INV_DATE\n",
      "0     10011     Dunne     Leona        1002  2012-01-16\n",
      "1     10011     Dunne     Leona        1004  2012-01-17\n",
      "2     10011     Dunne     Leona        1008  2012-01-17\n",
      "3     10012     Smith     Kathy        1003  2012-01-16\n",
      "4     10014   Orlando     Myron        1001  2012-01-16\n",
      "5     10014   Orlando     Myron        1006  2012-01-17\n",
      "6     10015   O'Brian       Amy        1007  2012-01-17\n",
      "7     10018   Farriss      Anne        1005  2012-01-17\n"
     ]
    }
   ],
   "source": [
    "customerInvoice = df_cus.merge(df_inv, on='CUS_CODE', how=\"inner\")\n",
    "print(customerInvoice)"
   ]
  },
  {
   "cell_type": "markdown",
   "metadata": {},
   "source": [
    "Write customerInvoice data to a customerInvoice.csv file. "
   ]
  },
  {
   "cell_type": "code",
   "execution_count": 86,
   "metadata": {},
   "outputs": [],
   "source": [
    "customerInvoice.to_csv('customerInvoice.csv', index=False)"
   ]
  },
  {
   "cell_type": "markdown",
   "metadata": {},
   "source": [
    "Load the three datasets from https://github.com/jakevdp/data-USstates/ into dataframes called population, area and abbreviation"
   ]
  },
  {
   "cell_type": "code",
   "execution_count": 9,
   "metadata": {},
   "outputs": [],
   "source": [
    "population_url = 'https://raw.githubusercontent.com/jakevdp/data-USstates/master/state-population.csv'\n",
    "population = pd.read_csv(population_url)\n",
    "\n",
    "area_url = 'https://raw.githubusercontent.com/jakevdp/data-USstates/master/state-areas.csv'\n",
    "area = pd.read_csv(area_url)\n",
    "\n",
    "abbreviation_url = 'https://raw.githubusercontent.com/jakevdp/data-USstates/master/state-abbrevs.csv'\n",
    "abbreviation = pd.read_csv(abbreviation_url)\n"
   ]
  },
  {
   "cell_type": "markdown",
   "metadata": {},
   "source": [
    "Print the three dataframes you have created in last step one by one"
   ]
  },
  {
   "cell_type": "code",
   "execution_count": 10,
   "metadata": {},
   "outputs": [
    {
     "name": "stdout",
     "output_type": "stream",
     "text": [
      "Population\n",
      "     state/region     ages  year   population\n",
      "0              AL  under18  2012    1117489.0\n",
      "1              AL    total  2012    4817528.0\n",
      "2              AL  under18  2010    1130966.0\n",
      "3              AL    total  2010    4785570.0\n",
      "4              AL  under18  2011    1125763.0\n",
      "...           ...      ...   ...          ...\n",
      "2539          USA    total  2010  309326295.0\n",
      "2540          USA  under18  2011   73902222.0\n",
      "2541          USA    total  2011  311582564.0\n",
      "2542          USA  under18  2012   73708179.0\n",
      "2543          USA    total  2012  313873685.0\n",
      "\n",
      "[2544 rows x 4 columns]\n"
     ]
    }
   ],
   "source": [
    "print(\"Population\")\n",
    "print(population)"
   ]
  },
  {
   "cell_type": "code",
   "execution_count": 11,
   "metadata": {},
   "outputs": [
    {
     "name": "stdout",
     "output_type": "stream",
     "text": [
      "Area\n",
      "                   state  area (sq. mi)\n",
      "0                Alabama          52423\n",
      "1                 Alaska         656425\n",
      "2                Arizona         114006\n",
      "3               Arkansas          53182\n",
      "4             California         163707\n",
      "5               Colorado         104100\n",
      "6            Connecticut           5544\n",
      "7               Delaware           1954\n",
      "8                Florida          65758\n",
      "9                Georgia          59441\n",
      "10                Hawaii          10932\n",
      "11                 Idaho          83574\n",
      "12              Illinois          57918\n",
      "13               Indiana          36420\n",
      "14                  Iowa          56276\n",
      "15                Kansas          82282\n",
      "16              Kentucky          40411\n",
      "17             Louisiana          51843\n",
      "18                 Maine          35387\n",
      "19              Maryland          12407\n",
      "20         Massachusetts          10555\n",
      "21              Michigan          96810\n",
      "22             Minnesota          86943\n",
      "23           Mississippi          48434\n",
      "24              Missouri          69709\n",
      "25               Montana         147046\n",
      "26              Nebraska          77358\n",
      "27                Nevada         110567\n",
      "28         New Hampshire           9351\n",
      "29            New Jersey           8722\n",
      "30            New Mexico         121593\n",
      "31              New York          54475\n",
      "32        North Carolina          53821\n",
      "33          North Dakota          70704\n",
      "34                  Ohio          44828\n",
      "35              Oklahoma          69903\n",
      "36                Oregon          98386\n",
      "37          Pennsylvania          46058\n",
      "38          Rhode Island           1545\n",
      "39        South Carolina          32007\n",
      "40          South Dakota          77121\n",
      "41             Tennessee          42146\n",
      "42                 Texas         268601\n",
      "43                  Utah          84904\n",
      "44               Vermont           9615\n",
      "45              Virginia          42769\n",
      "46            Washington          71303\n",
      "47         West Virginia          24231\n",
      "48             Wisconsin          65503\n",
      "49               Wyoming          97818\n",
      "50  District of Columbia             68\n",
      "51           Puerto Rico           3515\n"
     ]
    }
   ],
   "source": [
    "print(\"Area\")\n",
    "print(area)"
   ]
  },
  {
   "cell_type": "code",
   "execution_count": 12,
   "metadata": {},
   "outputs": [
    {
     "name": "stdout",
     "output_type": "stream",
     "text": [
      "Abbreviation\n",
      "                   state abbreviation\n",
      "0                Alabama           AL\n",
      "1                 Alaska           AK\n",
      "2                Arizona           AZ\n",
      "3               Arkansas           AR\n",
      "4             California           CA\n",
      "5               Colorado           CO\n",
      "6            Connecticut           CT\n",
      "7               Delaware           DE\n",
      "8   District of Columbia           DC\n",
      "9                Florida           FL\n",
      "10               Georgia           GA\n",
      "11                Hawaii           HI\n",
      "12                 Idaho           ID\n",
      "13              Illinois           IL\n",
      "14               Indiana           IN\n",
      "15                  Iowa           IA\n",
      "16                Kansas           KS\n",
      "17              Kentucky           KY\n",
      "18             Louisiana           LA\n",
      "19                 Maine           ME\n",
      "20               Montana           MT\n",
      "21              Nebraska           NE\n",
      "22                Nevada           NV\n",
      "23         New Hampshire           NH\n",
      "24            New Jersey           NJ\n",
      "25            New Mexico           NM\n",
      "26              New York           NY\n",
      "27        North Carolina           NC\n",
      "28          North Dakota           ND\n",
      "29                  Ohio           OH\n",
      "30              Oklahoma           OK\n",
      "31                Oregon           OR\n",
      "32              Maryland           MD\n",
      "33         Massachusetts           MA\n",
      "34              Michigan           MI\n",
      "35             Minnesota           MN\n",
      "36           Mississippi           MS\n",
      "37              Missouri           MO\n",
      "38          Pennsylvania           PA\n",
      "39          Rhode Island           RI\n",
      "40        South Carolina           SC\n",
      "41          South Dakota           SD\n",
      "42             Tennessee           TN\n",
      "43                 Texas           TX\n",
      "44                  Utah           UT\n",
      "45               Vermont           VT\n",
      "46              Virginia           VA\n",
      "47            Washington           WA\n",
      "48         West Virginia           WV\n",
      "49             Wisconsin           WI\n",
      "50               Wyoming           WY\n"
     ]
    }
   ],
   "source": [
    "print(\"Abbreviation\")\n",
    "print(abbreviation)"
   ]
  },
  {
   "cell_type": "markdown",
   "metadata": {},
   "source": [
    "Do a many-to-one merge to give us the full state name along with the population.Pick the columns you will use for merging\n"
   ]
  },
  {
   "cell_type": "code",
   "execution_count": 14,
   "metadata": {},
   "outputs": [
    {
     "name": "stdout",
     "output_type": "stream",
     "text": [
      "     state/region     ages  year  population    state abbreviation\n",
      "0              AL  under18  2012   1117489.0  Alabama           AL\n",
      "1              AL    total  2012   4817528.0  Alabama           AL\n",
      "2              AL  under18  2010   1130966.0  Alabama           AL\n",
      "3              AL    total  2010   4785570.0  Alabama           AL\n",
      "4              AL  under18  2011   1125763.0  Alabama           AL\n",
      "...           ...      ...   ...         ...      ...          ...\n",
      "2443           WY  under18  1993    137458.0  Wyoming           WY\n",
      "2444           WY    total  1991    459260.0  Wyoming           WY\n",
      "2445           WY  under18  1991    136720.0  Wyoming           WY\n",
      "2446           WY  under18  1990    136078.0  Wyoming           WY\n",
      "2447           WY    total  1990    453690.0  Wyoming           WY\n",
      "\n",
      "[2448 rows x 6 columns]\n"
     ]
    }
   ],
   "source": [
    "fstate_population = population.merge(abbreviation, left_on='state/region', right_on='abbreviation')\n",
    "print(fstate_population)"
   ]
  },
  {
   "cell_type": "markdown",
   "metadata": {},
   "source": [
    "Your output from the last command is only displaying data for Alabama state, kindly fix your code to display information for all the states."
   ]
  },
  {
   "cell_type": "code",
   "execution_count": 15,
   "metadata": {},
   "outputs": [
    {
     "name": "stdout",
     "output_type": "stream",
     "text": [
      "    state/region     ages  year  population    state abbreviation\n",
      "0             AL  under18  2012   1117489.0  Alabama           AL\n",
      "1             AL    total  2012   4817528.0  Alabama           AL\n",
      "2             AL  under18  2010   1130966.0  Alabama           AL\n",
      "3             AL    total  2010   4785570.0  Alabama           AL\n",
      "4             AL  under18  2011   1125763.0  Alabama           AL\n",
      "..           ...      ...   ...         ...      ...          ...\n",
      "115           AZ  under18  2004   1484454.0  Arizona           AZ\n",
      "116           AZ    total  2003   5510364.0  Arizona           AZ\n",
      "117           AZ  under18  2003   1453671.0  Arizona           AZ\n",
      "118           AZ    total  2001   5273477.0  Arizona           AZ\n",
      "119           AZ  under18  2001   1399015.0  Arizona           AZ\n",
      "\n",
      "[120 rows x 6 columns]\n"
     ]
    }
   ],
   "source": [
    "# Unlike what is described in the question, the previous command displays results for all states\n",
    "# To see other results, let us print more data\n",
    "print(fstate_population.head(120))\n",
    "\n",
    "# For instance, we can see in the result below that Arizona is included in the result sets"
   ]
  },
  {
   "cell_type": "markdown",
   "metadata": {},
   "source": [
    "Is Puerto Rico included in your result set? If not, fix your code to add it as a new state"
   ]
  },
  {
   "cell_type": "code",
   "execution_count": 16,
   "metadata": {},
   "outputs": [
    {
     "name": "stdout",
     "output_type": "stream",
     "text": [
      "False\n"
     ]
    }
   ],
   "source": [
    "# Check if Puerto Rico is included in the result set\n",
    "check_puerto_rico = 'Puerto Rico' in fstate_population['state'].values\n",
    "print(check_puerto_rico)"
   ]
  },
  {
   "cell_type": "code",
   "execution_count": 17,
   "metadata": {},
   "outputs": [
    {
     "name": "stdout",
     "output_type": "stream",
     "text": [
      "Puerto Rico added\n",
      "                   state abbreviation\n",
      "0                Alabama           AL\n",
      "1                 Alaska           AK\n",
      "2                Arizona           AZ\n",
      "3               Arkansas           AR\n",
      "4             California           CA\n",
      "5               Colorado           CO\n",
      "6            Connecticut           CT\n",
      "7               Delaware           DE\n",
      "8   District of Columbia           DC\n",
      "9                Florida           FL\n",
      "10               Georgia           GA\n",
      "11                Hawaii           HI\n",
      "12                 Idaho           ID\n",
      "13              Illinois           IL\n",
      "14               Indiana           IN\n",
      "15                  Iowa           IA\n",
      "16                Kansas           KS\n",
      "17              Kentucky           KY\n",
      "18             Louisiana           LA\n",
      "19                 Maine           ME\n",
      "20               Montana           MT\n",
      "21              Nebraska           NE\n",
      "22                Nevada           NV\n",
      "23         New Hampshire           NH\n",
      "24            New Jersey           NJ\n",
      "25            New Mexico           NM\n",
      "26              New York           NY\n",
      "27        North Carolina           NC\n",
      "28          North Dakota           ND\n",
      "29                  Ohio           OH\n",
      "30              Oklahoma           OK\n",
      "31                Oregon           OR\n",
      "32              Maryland           MD\n",
      "33         Massachusetts           MA\n",
      "34              Michigan           MI\n",
      "35             Minnesota           MN\n",
      "36           Mississippi           MS\n",
      "37              Missouri           MO\n",
      "38          Pennsylvania           PA\n",
      "39          Rhode Island           RI\n",
      "40        South Carolina           SC\n",
      "41          South Dakota           SD\n",
      "42             Tennessee           TN\n",
      "43                 Texas           TX\n",
      "44                  Utah           UT\n",
      "45               Vermont           VT\n",
      "46              Virginia           VA\n",
      "47            Washington           WA\n",
      "48         West Virginia           WV\n",
      "49             Wisconsin           WI\n",
      "50               Wyoming           WY\n",
      "51           Puerto Rico           PR\n",
      "New merged result of population and abbreviation\n",
      "     state/region     ages  year  population        state abbreviation\n",
      "0              AL  under18  2012   1117489.0      Alabama           AL\n",
      "1              AL    total  2012   4817528.0      Alabama           AL\n",
      "2              AL  under18  2010   1130966.0      Alabama           AL\n",
      "3              AL    total  2010   4785570.0      Alabama           AL\n",
      "4              AL  under18  2011   1125763.0      Alabama           AL\n",
      "...           ...      ...   ...         ...          ...          ...\n",
      "2491           PR  under18  2010    896945.0  Puerto Rico           PR\n",
      "2492           PR  under18  2011    869327.0  Puerto Rico           PR\n",
      "2493           PR    total  2011   3686580.0  Puerto Rico           PR\n",
      "2494           PR  under18  2012    841740.0  Puerto Rico           PR\n",
      "2495           PR    total  2012   3651545.0  Puerto Rico           PR\n",
      "\n",
      "[2496 rows x 6 columns]\n"
     ]
    }
   ],
   "source": [
    "# The result returns False which means that Puerto Rico was not found in the result set\n",
    "\n",
    "# Adding Puerto Rico as a new state\n",
    "pr_df = pd.DataFrame([['Puerto Rico','PR']], columns=['state', 'abbreviation'])\n",
    "abbreviation = pd.concat([abbreviation, pr_df]).reset_index(drop=True)\n",
    "\n",
    "print(\"Puerto Rico added\")\n",
    "print(abbreviation)\n",
    "\n",
    "# Now Puerto Rico is added at the end of the abbreviation dataframe\n",
    "\n",
    "print(\"New merged result of population and abbreviation\")\n",
    "fstate_population = population.merge(abbreviation, left_on='state/region', right_on='abbreviation')\n",
    "print(fstate_population)"
   ]
  },
  {
   "cell_type": "markdown",
   "metadata": {},
   "source": [
    "Now merge the result set with area so we can see the following information as one:\n",
    "state/region \tages \tyear \tpopulation \tstate \tarea (sq. mi)"
   ]
  },
  {
   "cell_type": "code",
   "execution_count": 18,
   "metadata": {},
   "outputs": [
    {
     "name": "stdout",
     "output_type": "stream",
     "text": [
      "     state/region     ages  year  population        state  area (sq. mi)\n",
      "0              AL  under18  2012   1117489.0      Alabama          52423\n",
      "1              AL    total  2012   4817528.0      Alabama          52423\n",
      "2              AL  under18  2010   1130966.0      Alabama          52423\n",
      "3              AL    total  2010   4785570.0      Alabama          52423\n",
      "4              AL  under18  2011   1125763.0      Alabama          52423\n",
      "...           ...      ...   ...         ...          ...            ...\n",
      "2491           PR  under18  2010    896945.0  Puerto Rico           3515\n",
      "2492           PR  under18  2011    869327.0  Puerto Rico           3515\n",
      "2493           PR    total  2011   3686580.0  Puerto Rico           3515\n",
      "2494           PR  under18  2012    841740.0  Puerto Rico           3515\n",
      "2495           PR    total  2012   3651545.0  Puerto Rico           3515\n",
      "\n",
      "[2496 rows x 6 columns]\n"
     ]
    }
   ],
   "source": [
    "# Merging\n",
    "merged_sets = fstate_population.merge(area, on='state')\n",
    "merged_sets = merged_sets.drop('abbreviation', axis=1)\n",
    "print(merged_sets)"
   ]
  },
  {
   "cell_type": "markdown",
   "metadata": {},
   "source": [
    "Load titanic.csv file into dataframe named titanic, print the data"
   ]
  },
  {
   "cell_type": "code",
   "execution_count": 19,
   "metadata": {},
   "outputs": [
    {
     "name": "stdout",
     "output_type": "stream",
     "text": [
      "     survived  pclass     sex   age  sibsp  parch     fare embarked   class  \\\n",
      "0           0       3    male  22.0      1      0   7.2500        S   Third   \n",
      "1           1       1  female  38.0      1      0  71.2833        C   First   \n",
      "2           1       3  female  26.0      0      0   7.9250        S   Third   \n",
      "3           1       1  female  35.0      1      0  53.1000        S   First   \n",
      "4           0       3    male  35.0      0      0   8.0500        S   Third   \n",
      "..        ...     ...     ...   ...    ...    ...      ...      ...     ...   \n",
      "886         0       2    male  27.0      0      0  13.0000        S  Second   \n",
      "887         1       1  female  19.0      0      0  30.0000        S   First   \n",
      "888         0       3  female   NaN      1      2  23.4500        S   Third   \n",
      "889         1       1    male  26.0      0      0  30.0000        C   First   \n",
      "890         0       3    male  32.0      0      0   7.7500        Q   Third   \n",
      "\n",
      "       who  adult_male deck  embark_town alive  alone  \n",
      "0      man        True  NaN  Southampton    no  False  \n",
      "1    woman       False    C    Cherbourg   yes  False  \n",
      "2    woman       False  NaN  Southampton   yes   True  \n",
      "3    woman       False    C  Southampton   yes  False  \n",
      "4      man        True  NaN  Southampton    no   True  \n",
      "..     ...         ...  ...          ...   ...    ...  \n",
      "886    man        True  NaN  Southampton    no   True  \n",
      "887  woman       False    B  Southampton   yes   True  \n",
      "888  woman       False  NaN  Southampton    no  False  \n",
      "889    man        True    C    Cherbourg   yes   True  \n",
      "890    man        True  NaN   Queenstown    no   True  \n",
      "\n",
      "[891 rows x 15 columns]\n"
     ]
    }
   ],
   "source": [
    "titanic = pd.read_csv('titanic.csv')\n",
    "print(titanic)"
   ]
  },
  {
   "cell_type": "markdown",
   "metadata": {},
   "source": [
    "Pivot the dataframe to hold information in the following format:\n",
    "class \t                                  First \tSecond  \t  Third\n",
    "sex \t\t\t\n",
    "female  \t                              0.968085  \t0.921053 \t0.500000\n",
    "male \t                                  0.368852  \t0.157407 \t0.135447"
   ]
  },
  {
   "cell_type": "code",
   "execution_count": 20,
   "metadata": {},
   "outputs": [
    {
     "name": "stdout",
     "output_type": "stream",
     "text": [
      "class      First    Second     Third\n",
      "sex                                 \n",
      "female  0.968085  0.921053  0.500000\n",
      "male    0.368852  0.157407  0.135447\n"
     ]
    }
   ],
   "source": [
    "tin_pivot_df1 = titanic.pivot_table(index='sex', columns=['class'], values='survived', aggfunc='mean')\n",
    "print(tin_pivot_df1)"
   ]
  },
  {
   "cell_type": "markdown",
   "metadata": {},
   "source": [
    "Pivot the table further to hold information in the following format:\n",
    "     \t    class \tFirst \tSecond \tThird\n",
    "sex \tage \t\t\t\n",
    "female \t(0, 18] \t0.909091 \t1.000000 \t0.511628\n",
    "(18, 80] \t0.972973 \t0.900000 \t0.423729\n",
    "male \t(0, 18] \t0.800000 \t0.600000 \t0.215686\n",
    "(18, 80] \t0.375000 \t0.071429 \t0.133663"
   ]
  },
  {
   "cell_type": "code",
   "execution_count": 21,
   "metadata": {},
   "outputs": [
    {
     "name": "stdout",
     "output_type": "stream",
     "text": [
      "class               First    Second     Third\n",
      "sex    age                                   \n",
      "female (0, 18]   0.909091  1.000000  0.511628\n",
      "       (18, 80]  0.972973  0.900000  0.423729\n",
      "male   (0, 18]   0.800000  0.600000  0.215686\n",
      "       (18, 80]  0.375000  0.071429  0.133663\n"
     ]
    }
   ],
   "source": [
    "bins = [0, 18, 80]\n",
    "titanic['age '] = pd.cut(titanic['age'], bins)\n",
    "tin_pivot_dftest = titanic.pivot_table(index=['sex', 'age '], columns='class', values='survived')\n",
    "print(tin_pivot_dftest)"
   ]
  },
  {
   "cell_type": "markdown",
   "metadata": {},
   "source": [
    "Pivot the table further to hold information in the following format:\n",
    "fare \tsurvived\n",
    "class \tFirst \tSecond \tThird \tFirst \tSecond \tThird\n",
    "sex \t\t\t\t\t\t\n",
    "female \t106.125798 \t21.970121 \t16.118810 \t91.0 \t70.0 \t72.0\n",
    "male \t67.226127 \t19.741782 \t12.661633 \t45.0 \t17.0 \t47.0"
   ]
  },
  {
   "cell_type": "code",
   "execution_count": 22,
   "metadata": {},
   "outputs": [
    {
     "name": "stdout",
     "output_type": "stream",
     "text": [
      "              fare                       survived             \n",
      "class        First     Second      Third    First Second Third\n",
      "sex                                                           \n",
      "female  106.125798  21.970121  16.118810       91     70    72\n",
      "male     67.226127  19.741782  12.661633       45     17    47\n"
     ]
    }
   ],
   "source": [
    "tin_pivot_3 = titanic.pivot_table(index='sex',columns='class', values=['fare', 'survived'], aggfunc={'fare':'mean', 'survived':'sum'})\n",
    "print(tin_pivot_3)"
   ]
  },
  {
   "cell_type": "markdown",
   "metadata": {},
   "source": [
    "Write the command to establish a connection to the database, write the necessary imports as well."
   ]
  },
  {
   "cell_type": "code",
   "execution_count": 23,
   "metadata": {},
   "outputs": [
    {
     "name": "stdout",
     "output_type": "stream",
     "text": [
      "<mysql.connector.connection.MySQLConnection object at 0x0000021B96AA9F90>\n"
     ]
    }
   ],
   "source": [
    "import mysql.connector as sql\n",
    "\n",
    "# Create a connection\n",
    "mydb = sql.connect(\n",
    "    host=\"localhost\",\n",
    "    user=\"root\",\n",
    "    password=\"hngX233!\",\n",
    "    database=\"labs\",\n",
    "    use_pure = True\n",
    ")\n",
    "\n",
    "print(mydb)"
   ]
  },
  {
   "cell_type": "markdown",
   "metadata": {},
   "source": [
    "Write a query to retrieve data from the table called \"countries\""
   ]
  },
  {
   "cell_type": "code",
   "execution_count": 25,
   "metadata": {},
   "outputs": [
    {
     "name": "stdout",
     "output_type": "stream",
     "text": [
      "   country_id              country_name  region_id\n",
      "0          AR                 Argentina          2\n",
      "1          AU                 Australia          3\n",
      "2          BE                   Belgium          1\n",
      "3          BR                    Brazil          2\n",
      "4          CA                    Canada          2\n",
      "5          CH               Switzerland          1\n",
      "6          CN                     China          3\n",
      "7          DE                   Germany          1\n",
      "8          DK                   Denmark          1\n",
      "9          EG                     Egypt          4\n",
      "10         FR                    France          1\n",
      "11         HK                  HongKong          3\n",
      "12         IL                    Israel          4\n",
      "13         IN                     India          3\n",
      "14         IT                     Italy          1\n",
      "15         JP                     Japan          3\n",
      "16         KW                    Kuwait          4\n",
      "17         MX                    Mexico          2\n",
      "18         NG                   Nigeria          4\n",
      "19         NL               Netherlands          1\n",
      "20         SG                 Singapore          3\n",
      "21         UK            United Kingdom          1\n",
      "22         US  United States of America          2\n",
      "23         ZM                    Zambia          4\n",
      "24         ZW                  Zimbabwe          4\n"
     ]
    }
   ],
   "source": [
    "cursor = mydb.cursor()\n",
    "\n",
    "country_query = \"SELECT * FROM countries\"\n",
    "\n",
    "cursor.execute(country_query)\n",
    "\n",
    "result = cursor.fetchall()\n",
    "    \n",
    "df1 = pd.DataFrame(result, columns=[i[0] for i in cursor.description])\n",
    "print(df1)\n"
   ]
  },
  {
   "cell_type": "markdown",
   "metadata": {},
   "source": [
    "Write a query to report the street address and city of all locations that their city name starts with ‘M’. \n",
    "Provide the alias “Street Address” for the street address column."
   ]
  },
  {
   "cell_type": "code",
   "execution_count": 8,
   "metadata": {},
   "outputs": [
    {
     "name": "stdout",
     "output_type": "stream",
     "text": [
      "          Street Address         city\n",
      "0  Schwanthalerstr. 7031       Munich\n",
      "1  Mariano Escobedo 9991  Mexico City\n"
     ]
    }
   ],
   "source": [
    "location_query = \"SELECT street_address as `Street Address`, city from locations WHERE city LIKE 'M%'\"\n",
    "\n",
    "cursor.execute(location_query)\n",
    "\n",
    "result = cursor.fetchall()\n",
    "    \n",
    "df2 = pd.DataFrame(result, columns=[i[0] for i in cursor.description])\n",
    "print(df2)\n"
   ]
  },
  {
   "cell_type": "markdown",
   "metadata": {},
   "source": [
    "Write a query to count the total number of employees working in each department."
   ]
  },
  {
   "cell_type": "code",
   "execution_count": 27,
   "metadata": {},
   "outputs": [
    {
     "name": "stdout",
     "output_type": "stream",
     "text": [
      "  Department ID  Total workers\n",
      "0            60              3\n",
      "1            50              5\n",
      "2            80              3\n",
      "3            10              1\n",
      "4          None              1\n",
      "5            90              3\n",
      "6            20              2\n",
      "7           110              2\n"
     ]
    }
   ],
   "source": [
    "employee_dep_query = \"SELECT department_id as `Department ID`, COUNT(*) AS `Total workers` FROM employees GROUP BY department_id\"\n",
    "\n",
    "cursor.execute(employee_dep_query)\n",
    "\n",
    "result = cursor.fetchall()\n",
    "\n",
    "df3 = pd.DataFrame(result, columns=[i[0] for i in cursor.description])\n",
    "print(df3)"
   ]
  },
  {
   "cell_type": "markdown",
   "metadata": {},
   "source": [
    "Write a query to print the name of employee along with the complete address of their department."
   ]
  },
  {
   "cell_type": "code",
   "execution_count": 14,
   "metadata": {},
   "outputs": [
    {
     "name": "stdout",
     "output_type": "stream",
     "text": [
      "   first_name  last_name  department_id department_name  location_id\n",
      "0   Alexander     Hunold             60              IT         1400\n",
      "1       Bruce      Ernst             60              IT         1400\n",
      "2      Curtis     Davies             50        Shipping         1500\n",
      "3       Diana    Lorentz             60              IT         1400\n",
      "4       Ellen       Abel             80           Sales         2500\n",
      "5       Eleni    Zlotkey             80           Sales         2500\n",
      "6    Jonathon     Taylor             80           Sales         2500\n",
      "7    Jennifer     Whalen             10  Administration         1700\n",
      "8       Kevin    Mourgos             50        Shipping         1500\n",
      "9         Lex    De Haan             90       Executive         1700\n",
      "10    Michael  Hartstein             20       Marketing         1800\n",
      "11      Neena    Kochhar             90       Executive         1700\n",
      "12        Pat        Fay             20       Marketing         1800\n",
      "13      Peter     Vargas             50        Shipping         1500\n",
      "14    Randall      Matos             50        Shipping         1500\n",
      "15    Shelley    Higgins            110      Accounting         1700\n",
      "16     Steven       King             90       Executive         1700\n",
      "17     Trenna       Rajs             50        Shipping         1500\n",
      "18    William      Gietz            110      Accounting         1700\n"
     ]
    }
   ],
   "source": [
    "query = \"SELECT e.first_name, e.last_name, d.department_id, d.department_name, d.location_id FROM employees e JOIN departments d ON e.department_id = d.department_id\"\n",
    "\n",
    "cursor.execute(query)\n",
    "\n",
    "result = cursor.fetchall()\n",
    "\n",
    "df4 = pd.DataFrame(result, columns=[i[0] for i in cursor.description])\n",
    "print(df4)\n"
   ]
  },
  {
   "cell_type": "markdown",
   "metadata": {},
   "source": [
    "Close the connection"
   ]
  },
  {
   "cell_type": "code",
   "execution_count": 28,
   "metadata": {},
   "outputs": [],
   "source": [
    "cursor.close() # close the cursor\n",
    "mydb.close()"
   ]
  }
 ],
 "metadata": {
  "kernelspec": {
   "display_name": "Python 3 (ipykernel)",
   "language": "python",
   "name": "python3"
  },
  "language_info": {
   "codemirror_mode": {
    "name": "ipython",
    "version": 3
   },
   "file_extension": ".py",
   "mimetype": "text/x-python",
   "name": "python",
   "nbconvert_exporter": "python",
   "pygments_lexer": "ipython3",
   "version": "3.11.5"
  }
 },
 "nbformat": 4,
 "nbformat_minor": 4
}
