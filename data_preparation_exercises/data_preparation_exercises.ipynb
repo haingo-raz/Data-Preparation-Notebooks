{
  "cells": [
    {
      "cell_type": "markdown",
      "metadata": {
        "trusted": true
      },
      "source": [
        "### Data preparation"
      ]
    },
    {
      "cell_type": "code",
      "execution_count": 78,
      "metadata": {
        "trusted": true
      },
      "outputs": [
        {
          "name": "stdout",
          "output_type": "stream",
          "text": [
            "        sex    tv  computer  sleep  height  momheight  dadheight  exercise  \\\n",
            "0    Female  13.0      10.0    3.5    66.0       66.0       71.0      10.0   \n",
            "1      Male  20.0       7.0    9.0    72.0       64.0       65.0       2.0   \n",
            "2      Male  15.0      15.0    6.0    68.0       62.0       74.0       3.0   \n",
            "3      Male   8.0      20.0    6.0    68.0       59.0       70.0       6.0   \n",
            "4    Female   2.5      10.0    5.0    64.0       65.0       70.0       6.5   \n",
            "..      ...   ...       ...    ...     ...        ...        ...       ...   \n",
            "143  Female   5.0      35.0    5.0    65.0       69.0       72.0       5.0   \n",
            "144    Male   8.0      32.0    6.0    72.0       65.0       71.0       1.5   \n",
            "145    Male   9.0       7.0    7.0    75.0       68.0       74.0       7.0   \n",
            "146    Male   1.0      10.0    5.0    72.0       60.0       74.0       3.0   \n",
            "147  Female   5.0       2.0    6.0    64.0       62.0       66.0       6.0   \n",
            "\n",
            "      gpa  \n",
            "0    4.00  \n",
            "1    2.30  \n",
            "2    2.60  \n",
            "3    2.80  \n",
            "4    2.62  \n",
            "..    ...  \n",
            "143  2.18  \n",
            "144  2.80  \n",
            "145  3.50  \n",
            "146  4.00  \n",
            "147  4.00  \n",
            "\n",
            "[148 rows x 9 columns]\n"
          ]
        }
      ],
      "source": [
        "import pandas as pd\n",
        "hw=pd.read_csv('height_weight.csv')\n",
        "print(hw)"
      ]
    },
    {
      "cell_type": "markdown",
      "metadata": {
        "trusted": true
      },
      "source": [
        "1 Replace all female occurrences with 'f' and all male occurrences with 'm' under the sex column in the hw dataframe."
      ]
    },
    {
      "cell_type": "code",
      "execution_count": 79,
      "metadata": {
        "trusted": true
      },
      "outputs": [
        {
          "name": "stdout",
          "output_type": "stream",
          "text": [
            "    sex    tv  computer  sleep  height  momheight  dadheight  exercise   gpa\n",
            "0     f  13.0      10.0    3.5    66.0       66.0       71.0      10.0  4.00\n",
            "1     m  20.0       7.0    9.0    72.0       64.0       65.0       2.0  2.30\n",
            "2     m  15.0      15.0    6.0    68.0       62.0       74.0       3.0  2.60\n",
            "3     m   8.0      20.0    6.0    68.0       59.0       70.0       6.0  2.80\n",
            "4     f   2.5      10.0    5.0    64.0       65.0       70.0       6.5  2.62\n",
            "..   ..   ...       ...    ...     ...        ...        ...       ...   ...\n",
            "143   f   5.0      35.0    5.0    65.0       69.0       72.0       5.0  2.18\n",
            "144   m   8.0      32.0    6.0    72.0       65.0       71.0       1.5  2.80\n",
            "145   m   9.0       7.0    7.0    75.0       68.0       74.0       7.0  3.50\n",
            "146   m   1.0      10.0    5.0    72.0       60.0       74.0       3.0  4.00\n",
            "147   f   5.0       2.0    6.0    64.0       62.0       66.0       6.0  4.00\n",
            "\n",
            "[148 rows x 9 columns]\n"
          ]
        }
      ],
      "source": [
        "hw.sex = hw.sex.replace(\"Female\", \"f\")\n",
        "hw.sex = hw.sex.replace(\"Male\", \"m\")\n",
        "print(hw)"
      ]
    },
    {
      "cell_type": "markdown",
      "metadata": {
        "trusted": true
      },
      "source": [
        "2. Add a column named 'tall' to the hw dataframe that takes the value \"1\" if height is greater than the height of mom and dad and '0' otherwise."
      ]
    },
    {
      "cell_type": "code",
      "execution_count": 89,
      "metadata": {
        "trusted": true
      },
      "outputs": [
        {
          "name": "stdout",
          "output_type": "stream",
          "text": [
            "    sex    tv  computer  sleep  height  momheight  dadheight  exercise   gpa  \\\n",
            "0     f  13.0      10.0    3.5    66.0       66.0       71.0      10.0  4.00   \n",
            "1     m  20.0       7.0    9.0    72.0       64.0       65.0       2.0  2.30   \n",
            "2     m  15.0      15.0    6.0    68.0       62.0       74.0       3.0  2.60   \n",
            "3     m   8.0      20.0    6.0    68.0       59.0       70.0       6.0  2.80   \n",
            "4     f   2.5      10.0    5.0    64.0       65.0       70.0       6.5  2.62   \n",
            "..   ..   ...       ...    ...     ...        ...        ...       ...   ...   \n",
            "143   f   5.0      35.0    5.0    65.0       69.0       72.0       5.0  2.18   \n",
            "144   m   8.0      32.0    6.0    72.0       65.0       71.0       1.5  2.80   \n",
            "145   m   9.0       7.0    7.0    75.0       68.0       74.0       7.0  3.50   \n",
            "146   m   1.0      10.0    5.0    72.0       60.0       74.0       3.0  4.00   \n",
            "147   f   5.0       2.0    6.0    64.0       62.0       66.0       6.0  4.00   \n",
            "\n",
            "    tall  \n",
            "0      0  \n",
            "1      1  \n",
            "2      0  \n",
            "3      0  \n",
            "4      0  \n",
            "..   ...  \n",
            "143    0  \n",
            "144    1  \n",
            "145    1  \n",
            "146    0  \n",
            "147    0  \n",
            "\n",
            "[148 rows x 10 columns]\n"
          ]
        }
      ],
      "source": [
        "hw.loc[hw[\"height\"] > hw[\"dadheight\"], \"tall\"] = \"1\"\n",
        "hw.loc[hw[\"height\"] <  hw[\"momheight\"], \"tall\"] = \"0\"\n",
        "hw.loc[hw[\"height\"] < hw[\"dadheight\"], \"tall\"] = \"0\"\n",
        "\n",
        "print(hw)"
      ]
    },
    {
      "cell_type": "markdown",
      "metadata": {
        "trusted": true
      },
      "source": [
        "3. Write the code to show the rows of the hw dataframe where there are outliers for the \"sleep\" variable.\n",
        "  Outliers should be considered based on the mean and standard deviation method.\n",
        "  Any value greater than the mean +2*SD or lower than mean +2*SD is considered as outlier."
      ]
    },
    {
      "cell_type": "code",
      "execution_count": null,
      "metadata": {
        "trusted": true
      },
      "outputs": [],
      "source": [
        "#outliers_subset_sleep "
      ]
    },
    {
      "cell_type": "markdown",
      "metadata": {
        "trusted": true
      },
      "source": [
        "4. For female observations, replace the missing values under the gpa column with the mean gpa for all female observations."
      ]
    },
    {
      "cell_type": "code",
      "execution_count": 92,
      "metadata": {
        "trusted": true
      },
      "outputs": [],
      "source": [
        "female_subset = hw.loc[hw[\"sex\"] == \"f\"]\n",
        "mean_f_gpa = female_subset.gpa.mean()\n",
        "hw.gpa = female_subset.gpa.fillna(mean_f_gpa)"
      ]
    },
    {
      "cell_type": "markdown",
      "metadata": {
        "trusted": true
      },
      "source": [
        "5. Use iloc and slice method to slice the first 4 columns of the dataset, keep all rows.\n",
        "   Save the sliced subset in a dataframe called subset, then show the first 5 observations of dataframe subset."
      ]
    },
    {
      "cell_type": "code",
      "execution_count": 94,
      "metadata": {
        "trusted": true
      },
      "outputs": [
        {
          "data": {
            "text/html": [
              "<div>\n",
              "<style scoped>\n",
              "    .dataframe tbody tr th:only-of-type {\n",
              "        vertical-align: middle;\n",
              "    }\n",
              "\n",
              "    .dataframe tbody tr th {\n",
              "        vertical-align: top;\n",
              "    }\n",
              "\n",
              "    .dataframe thead th {\n",
              "        text-align: right;\n",
              "    }\n",
              "</style>\n",
              "<table border=\"1\" class=\"dataframe\">\n",
              "  <thead>\n",
              "    <tr style=\"text-align: right;\">\n",
              "      <th></th>\n",
              "      <th>sex</th>\n",
              "      <th>tv</th>\n",
              "      <th>computer</th>\n",
              "      <th>sleep</th>\n",
              "    </tr>\n",
              "  </thead>\n",
              "  <tbody>\n",
              "    <tr>\n",
              "      <th>0</th>\n",
              "      <td>f</td>\n",
              "      <td>13.0</td>\n",
              "      <td>10.0</td>\n",
              "      <td>3.5</td>\n",
              "    </tr>\n",
              "    <tr>\n",
              "      <th>1</th>\n",
              "      <td>m</td>\n",
              "      <td>20.0</td>\n",
              "      <td>7.0</td>\n",
              "      <td>9.0</td>\n",
              "    </tr>\n",
              "    <tr>\n",
              "      <th>2</th>\n",
              "      <td>m</td>\n",
              "      <td>15.0</td>\n",
              "      <td>15.0</td>\n",
              "      <td>6.0</td>\n",
              "    </tr>\n",
              "    <tr>\n",
              "      <th>3</th>\n",
              "      <td>m</td>\n",
              "      <td>8.0</td>\n",
              "      <td>20.0</td>\n",
              "      <td>6.0</td>\n",
              "    </tr>\n",
              "    <tr>\n",
              "      <th>4</th>\n",
              "      <td>f</td>\n",
              "      <td>2.5</td>\n",
              "      <td>10.0</td>\n",
              "      <td>5.0</td>\n",
              "    </tr>\n",
              "  </tbody>\n",
              "</table>\n",
              "</div>"
            ],
            "text/plain": [
              "  sex    tv  computer  sleep\n",
              "0   f  13.0      10.0    3.5\n",
              "1   m  20.0       7.0    9.0\n",
              "2   m  15.0      15.0    6.0\n",
              "3   m   8.0      20.0    6.0\n",
              "4   f   2.5      10.0    5.0"
            ]
          },
          "execution_count": 94,
          "metadata": {},
          "output_type": "execute_result"
        }
      ],
      "source": [
        "subset = hw.iloc[:, 0:4]\n",
        "subset.head()"
      ]
    },
    {
      "cell_type": "markdown",
      "metadata": {
        "trusted": true
      },
      "source": [
        "6. Add a new column named \"healthy\" in the hw dataframe.\n",
        "  Use lambda function to fill this col with value \"1\" if number of hours spent on exercise is greater than 5,and \"0\" otherwise.\n",
        "  Print the dataframe hw."
      ]
    },
    {
      "cell_type": "code",
      "execution_count": 95,
      "metadata": {
        "trusted": true
      },
      "outputs": [
        {
          "data": {
            "text/plain": [
              "Index(['sex', 'tv', 'computer', 'sleep', 'height', 'momheight', 'dadheight',\n",
              "       'exercise', 'gpa', 'tall'],\n",
              "      dtype='object')"
            ]
          },
          "execution_count": 95,
          "metadata": {},
          "output_type": "execute_result"
        }
      ],
      "source": [
        "hw.columns"
      ]
    },
    {
      "cell_type": "code",
      "execution_count": 97,
      "metadata": {
        "trusted": true
      },
      "outputs": [
        {
          "name": "stdout",
          "output_type": "stream",
          "text": [
            "    sex    tv  computer  sleep  height  momheight  dadheight  exercise   gpa  \\\n",
            "0     f  13.0      10.0    3.5    66.0       66.0       71.0      10.0  4.00   \n",
            "1     m  20.0       7.0    9.0    72.0       64.0       65.0       2.0   NaN   \n",
            "2     m  15.0      15.0    6.0    68.0       62.0       74.0       3.0   NaN   \n",
            "3     m   8.0      20.0    6.0    68.0       59.0       70.0       6.0   NaN   \n",
            "4     f   2.5      10.0    5.0    64.0       65.0       70.0       6.5  2.62   \n",
            "..   ..   ...       ...    ...     ...        ...        ...       ...   ...   \n",
            "143   f   5.0      35.0    5.0    65.0       69.0       72.0       5.0  2.18   \n",
            "144   m   8.0      32.0    6.0    72.0       65.0       71.0       1.5   NaN   \n",
            "145   m   9.0       7.0    7.0    75.0       68.0       74.0       7.0   NaN   \n",
            "146   m   1.0      10.0    5.0    72.0       60.0       74.0       3.0   NaN   \n",
            "147   f   5.0       2.0    6.0    64.0       62.0       66.0       6.0  4.00   \n",
            "\n",
            "    tall healthy  \n",
            "0      0       1  \n",
            "1      1       0  \n",
            "2      0       0  \n",
            "3      0       1  \n",
            "4      0       1  \n",
            "..   ...     ...  \n",
            "143    0       0  \n",
            "144    1       0  \n",
            "145    1       1  \n",
            "146    0       0  \n",
            "147    0       1  \n",
            "\n",
            "[148 rows x 11 columns]\n"
          ]
        }
      ],
      "source": [
        "hw[\"healthy\"] = hw[\"exercise\"].apply(lambda x: \"1\" if x > 5 else \"0\")\n",
        "print(hw)"
      ]
    },
    {
      "cell_type": "markdown",
      "metadata": {
        "trusted": true
      },
      "source": [
        "7. Create a histogram to show the frequency of male and female observations."
      ]
    },
    {
      "cell_type": "code",
      "execution_count": 38,
      "metadata": {
        "trusted": true
      },
      "outputs": [
        {
          "data": {
            "text/plain": [
              "<AxesSubplot:>"
            ]
          },
          "execution_count": 38,
          "metadata": {},
          "output_type": "execute_result"
        },
        {
          "data": {
            "image/png": "[encoded data removed]",
            "text/plain": [
              "<Figure size 640x480 with 1 Axes>"
            ]
          },
          "metadata": {},
          "output_type": "display_data"
        }
      ],
      "source": [
        "from matplotlib import pyplot\n",
        "\n",
        "hw.sex.hist()"
      ]
    },
    {
      "cell_type": "markdown",
      "metadata": {
        "trusted": true
      },
      "source": [
        "8.  Create a new dataframe hw_binned, result of equal-sized binning of all the numerical columns in hw dataset given the percentile points in the quantile table. \n",
        "    Use a for loop to iterate over the columns in hw dataset, and call qcut for binning each of the columns. "
      ]
    },
    {
      "cell_type": "code",
      "execution_count": 43,
      "metadata": {
        "trusted": true
      },
      "outputs": [],
      "source": [
        "pcts = [0, 0.25, 0.5, 0.75, 1]\n",
        "\n",
        "numerical_col = [\"tv\", \"computer\", \"sleep\", \"height\", \"momheight\", \"dadheight\", \"exercise\", \"gpa\"]\n",
        "\n",
        "for i in numerical_col:\n",
        "    hw_binned = pd.concat([pd.qcut(hw[numerical_col], pcts, precision=1)\n",
        "    \n",
        "hw_binned"
      ]
    },
    {
      "cell_type": "markdown",
      "metadata": {
        "trusted": true
      },
      "source": [
        "9. Calculate the average number of sleep hours for male who have gpa 3 or higher."
      ]
    },
    {
      "cell_type": "code",
      "execution_count": 98,
      "metadata": {
        "trusted": true
      },
      "outputs": [
        {
          "name": "stdout",
          "output_type": "stream",
          "text": [
            "nan\n"
          ]
        }
      ],
      "source": [
        "male_subset = hw.loc[hw[\"sex\"] == \"m\"]\n",
        "gpa_male_3 = male_subset.loc[male_subset[\"gpa\"] > 3]\n",
        "\n",
        "average_sleep = gpa_male_3[\"sleep\"].mean()\n",
        "print(average_sleep)"
      ]
    },
    {
      "cell_type": "markdown",
      "metadata": {
        "trusted": true
      },
      "source": [
        "10. Create a new function called \"totol_hours\", which return the sum of hours spend on \"Tv\",\"computer\" and \"sleep\".\n",
        "    Apply the function to hw dataframe and print the total_hours for all observations."
      ]
    },
    {
      "cell_type": "code",
      "execution_count": 64,
      "metadata": {
        "trusted": true
      },
      "outputs": [],
      "source": [
        "total_hours = 0\n",
        "def total_hours(hw):\n",
        "    total_hours = hw[\"tv\"] + hw[\"computer\"] + hw[\"sleep\"]\n",
        "    return total_hours\n",
        "\n",
        "hw = hw.apply(total_hours)\n",
        "hw"
      ]
    },
    {
      "cell_type": "code",
      "execution_count": 65,
      "metadata": {
        "trusted": true
      },
      "outputs": [
        {
          "name": "stdout",
          "output_type": "stream",
          "text": [
            "   Unnamed: 0  CUS_CODE CUS_LNAME CUS_FNAME\n",
            "0           0     10010     Ramas    Alfred\n",
            "1           1     10011     Dunne     Leona\n",
            "2           2     10012     Smith     Kathy\n",
            "3           3     10013   Olowski      Paul\n",
            "4           4     10014   Orlando     Myron\n",
            "5           5     10015   O'Brian       Amy\n",
            "6           6     10016     Brown     James\n",
            "7           7     10017  Williams    George\n",
            "8           8     10018   Farriss      Anne\n",
            "9           9     10019     Smith    Olette\n",
            "   Unnamed: 0  INV_NUMBER  CUS_CODE    INV_DATE\n",
            "0           0        1001     10014  2012-01-16\n",
            "1           1        1002     10011  2012-01-16\n",
            "2           2        1003     10012  2012-01-16\n",
            "3           3        1004     10011  2012-01-17\n",
            "4           4        1005     10018  2012-01-17\n",
            "5           5        1006     10014  2012-01-17\n",
            "6           6        1007     10015  2012-01-17\n",
            "7           7        1008     10011  2012-01-17\n"
          ]
        }
      ],
      "source": [
        "customer=pd.read_csv('customer.csv')\n",
        "invoice=pd.read_csv('invoice.csv')\n",
        "print(customer)\n",
        "print(invoice)"
      ]
    },
    {
      "cell_type": "markdown",
      "metadata": {
        "trusted": true
      },
      "source": [
        "11. Count the number of invoices per customer from the invoice dataframe."
      ]
    },
    {
      "cell_type": "code",
      "execution_count": 71,
      "metadata": {
        "trusted": true
      },
      "outputs": [
        {
          "data": {
            "text/plain": [
              "array([1001, 1002, 1003, 1004, 1005, 1006, 1007, 1008], dtype=int64)"
            ]
          },
          "execution_count": 71,
          "metadata": {},
          "output_type": "execute_result"
        }
      ],
      "source": [
        "invoice_per_cus = invoice.INV_NUMBER.unique()\n",
        "invoice_per_cus"
      ]
    },
    {
      "cell_type": "markdown",
      "metadata": {
        "trusted": true
      },
      "source": [
        "12. Merge the customer and invoice dataframes and show all matched and unmatched rows from both dataframes."
      ]
    },
    {
      "cell_type": "code",
      "execution_count": 74,
      "metadata": {
        "trusted": true
      },
      "outputs": [
        {
          "data": {
            "text/html": [
              "<div>\n",
              "<style scoped>\n",
              "    .dataframe tbody tr th:only-of-type {\n",
              "        vertical-align: middle;\n",
              "    }\n",
              "\n",
              "    .dataframe tbody tr th {\n",
              "        vertical-align: top;\n",
              "    }\n",
              "\n",
              "    .dataframe thead th {\n",
              "        text-align: right;\n",
              "    }\n",
              "</style>\n",
              "<table border=\"1\" class=\"dataframe\">\n",
              "  <thead>\n",
              "    <tr style=\"text-align: right;\">\n",
              "      <th></th>\n",
              "      <th>Unnamed: 0_x</th>\n",
              "      <th>INV_NUMBER</th>\n",
              "      <th>CUS_CODE</th>\n",
              "      <th>INV_DATE</th>\n",
              "      <th>Unnamed: 0_y</th>\n",
              "      <th>CUS_LNAME</th>\n",
              "      <th>CUS_FNAME</th>\n",
              "    </tr>\n",
              "  </thead>\n",
              "  <tbody>\n",
              "    <tr>\n",
              "      <th>0</th>\n",
              "      <td>0.0</td>\n",
              "      <td>1001.0</td>\n",
              "      <td>10014</td>\n",
              "      <td>2012-01-16</td>\n",
              "      <td>4</td>\n",
              "      <td>Orlando</td>\n",
              "      <td>Myron</td>\n",
              "    </tr>\n",
              "    <tr>\n",
              "      <th>1</th>\n",
              "      <td>5.0</td>\n",
              "      <td>1006.0</td>\n",
              "      <td>10014</td>\n",
              "      <td>2012-01-17</td>\n",
              "      <td>4</td>\n",
              "      <td>Orlando</td>\n",
              "      <td>Myron</td>\n",
              "    </tr>\n",
              "    <tr>\n",
              "      <th>2</th>\n",
              "      <td>1.0</td>\n",
              "      <td>1002.0</td>\n",
              "      <td>10011</td>\n",
              "      <td>2012-01-16</td>\n",
              "      <td>1</td>\n",
              "      <td>Dunne</td>\n",
              "      <td>Leona</td>\n",
              "    </tr>\n",
              "    <tr>\n",
              "      <th>3</th>\n",
              "      <td>3.0</td>\n",
              "      <td>1004.0</td>\n",
              "      <td>10011</td>\n",
              "      <td>2012-01-17</td>\n",
              "      <td>1</td>\n",
              "      <td>Dunne</td>\n",
              "      <td>Leona</td>\n",
              "    </tr>\n",
              "    <tr>\n",
              "      <th>4</th>\n",
              "      <td>7.0</td>\n",
              "      <td>1008.0</td>\n",
              "      <td>10011</td>\n",
              "      <td>2012-01-17</td>\n",
              "      <td>1</td>\n",
              "      <td>Dunne</td>\n",
              "      <td>Leona</td>\n",
              "    </tr>\n",
              "    <tr>\n",
              "      <th>5</th>\n",
              "      <td>2.0</td>\n",
              "      <td>1003.0</td>\n",
              "      <td>10012</td>\n",
              "      <td>2012-01-16</td>\n",
              "      <td>2</td>\n",
              "      <td>Smith</td>\n",
              "      <td>Kathy</td>\n",
              "    </tr>\n",
              "    <tr>\n",
              "      <th>6</th>\n",
              "      <td>4.0</td>\n",
              "      <td>1005.0</td>\n",
              "      <td>10018</td>\n",
              "      <td>2012-01-17</td>\n",
              "      <td>8</td>\n",
              "      <td>Farriss</td>\n",
              "      <td>Anne</td>\n",
              "    </tr>\n",
              "    <tr>\n",
              "      <th>7</th>\n",
              "      <td>6.0</td>\n",
              "      <td>1007.0</td>\n",
              "      <td>10015</td>\n",
              "      <td>2012-01-17</td>\n",
              "      <td>5</td>\n",
              "      <td>O'Brian</td>\n",
              "      <td>Amy</td>\n",
              "    </tr>\n",
              "    <tr>\n",
              "      <th>8</th>\n",
              "      <td>NaN</td>\n",
              "      <td>NaN</td>\n",
              "      <td>10010</td>\n",
              "      <td>NaN</td>\n",
              "      <td>0</td>\n",
              "      <td>Ramas</td>\n",
              "      <td>Alfred</td>\n",
              "    </tr>\n",
              "    <tr>\n",
              "      <th>9</th>\n",
              "      <td>NaN</td>\n",
              "      <td>NaN</td>\n",
              "      <td>10013</td>\n",
              "      <td>NaN</td>\n",
              "      <td>3</td>\n",
              "      <td>Olowski</td>\n",
              "      <td>Paul</td>\n",
              "    </tr>\n",
              "    <tr>\n",
              "      <th>10</th>\n",
              "      <td>NaN</td>\n",
              "      <td>NaN</td>\n",
              "      <td>10016</td>\n",
              "      <td>NaN</td>\n",
              "      <td>6</td>\n",
              "      <td>Brown</td>\n",
              "      <td>James</td>\n",
              "    </tr>\n",
              "    <tr>\n",
              "      <th>11</th>\n",
              "      <td>NaN</td>\n",
              "      <td>NaN</td>\n",
              "      <td>10017</td>\n",
              "      <td>NaN</td>\n",
              "      <td>7</td>\n",
              "      <td>Williams</td>\n",
              "      <td>George</td>\n",
              "    </tr>\n",
              "    <tr>\n",
              "      <th>12</th>\n",
              "      <td>NaN</td>\n",
              "      <td>NaN</td>\n",
              "      <td>10019</td>\n",
              "      <td>NaN</td>\n",
              "      <td>9</td>\n",
              "      <td>Smith</td>\n",
              "      <td>Olette</td>\n",
              "    </tr>\n",
              "  </tbody>\n",
              "</table>\n",
              "</div>"
            ],
            "text/plain": [
              "    Unnamed: 0_x  INV_NUMBER  CUS_CODE    INV_DATE  Unnamed: 0_y CUS_LNAME  \\\n",
              "0            0.0      1001.0     10014  2012-01-16             4   Orlando   \n",
              "1            5.0      1006.0     10014  2012-01-17             4   Orlando   \n",
              "2            1.0      1002.0     10011  2012-01-16             1     Dunne   \n",
              "3            3.0      1004.0     10011  2012-01-17             1     Dunne   \n",
              "4            7.0      1008.0     10011  2012-01-17             1     Dunne   \n",
              "5            2.0      1003.0     10012  2012-01-16             2     Smith   \n",
              "6            4.0      1005.0     10018  2012-01-17             8   Farriss   \n",
              "7            6.0      1007.0     10015  2012-01-17             5   O'Brian   \n",
              "8            NaN         NaN     10010         NaN             0     Ramas   \n",
              "9            NaN         NaN     10013         NaN             3   Olowski   \n",
              "10           NaN         NaN     10016         NaN             6     Brown   \n",
              "11           NaN         NaN     10017         NaN             7  Williams   \n",
              "12           NaN         NaN     10019         NaN             9     Smith   \n",
              "\n",
              "   CUS_FNAME  \n",
              "0      Myron  \n",
              "1      Myron  \n",
              "2      Leona  \n",
              "3      Leona  \n",
              "4      Leona  \n",
              "5      Kathy  \n",
              "6       Anne  \n",
              "7        Amy  \n",
              "8     Alfred  \n",
              "9       Paul  \n",
              "10     James  \n",
              "11    George  \n",
              "12    Olette  "
            ]
          },
          "execution_count": 74,
          "metadata": {},
          "output_type": "execute_result"
        }
      ],
      "source": [
        "merge1 = invoice.merge(customer, on=\"CUS_CODE\", how=\"outer\")\n",
        "merge1"
      ]
    },
    {
      "cell_type": "markdown",
      "metadata": {
        "trusted": true
      },
      "source": [
        "13. Merge the two dataframes customer and invoice into dataframe called customerInvoice using inner join. \n",
        "   Write customerInvoice data to a customerInvoice.csv file. "
      ]
    },
    {
      "cell_type": "code",
      "execution_count": 75,
      "metadata": {
        "trusted": true
      },
      "outputs": [],
      "source": [
        "customerInvoice = customer.merge(invoice, on=\"CUS_CODE\", how=\"inner\")\n",
        "\n",
        "customerInvoice.to_csv(\"customerInvoice.csv\")"
      ]
    },
    {
      "cell_type": "markdown",
      "metadata": {
        "trusted": true
      },
      "source": [
        "14. Group the invoices by customer last name and invoice date."
      ]
    },
    {
      "cell_type": "code",
      "execution_count": 76,
      "metadata": {
        "trusted": true
      },
      "outputs": [
        {
          "data": {
            "text/plain": [
              "<pandas.core.groupby.generic.DataFrameGroupBy object at 0x8f8ecd0>"
            ]
          },
          "execution_count": 76,
          "metadata": {},
          "output_type": "execute_result"
        }
      ],
      "source": [
        "group1 = customerInvoice.groupby([\"CUS_LNAME\", \"INV_DATE\"])\n",
        "group1"
      ]
    },
    {
      "cell_type": "markdown",
      "metadata": {
        "trusted": true
      },
      "source": [
        "15. Print the unique values for the column invoice date from the customerInvoice dataframe."
      ]
    },
    {
      "cell_type": "code",
      "execution_count": 77,
      "metadata": {
        "trusted": true
      },
      "outputs": [
        {
          "data": {
            "text/plain": [
              "array(['2012-01-16', '2012-01-17'], dtype=object)"
            ]
          },
          "execution_count": 77,
          "metadata": {},
          "output_type": "execute_result"
        }
      ],
      "source": [
        "unique_values = customerInvoice[\"INV_DATE\"].unique()\n",
        "unique_values"
      ]
    }
  ],
  "metadata": {
    "kernelspec": {
      "display_name": "Python (Pyodide)",
      "language": "python",
      "name": "python"
    },
    "language_info": {
      "codemirror_mode": {
        "name": "python",
        "version": 3
      },
      "file_extension": ".py",
      "mimetype": "text/x-python",
      "name": "python",
      "nbconvert_exporter": "python",
      "pygments_lexer": "ipython3",
      "version": "3.8"
    }
  },
  "nbformat": 4,
  "nbformat_minor": 4
}
