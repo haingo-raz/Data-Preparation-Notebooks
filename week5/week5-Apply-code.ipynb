{
 "cells": [
  {
   "cell_type": "code",
   "execution_count": null,
   "metadata": {},
   "outputs": [],
   "source": [
    "# AIG150 Winter 2024\n",
    "# Week 5 Sample Code \n",
    "# Asma M Paracha\n",
    "# apply functions"
   ]
  },
  {
   "cell_type": "code",
   "execution_count": 4,
   "metadata": {},
   "outputs": [],
   "source": [
    "# define a function first\n",
    "def my_sq(x):\n",
    "    \"\"\"Documentation\"\"\"\n",
    "    return x** 2"
   ]
  },
  {
   "cell_type": "code",
   "execution_count": 2,
   "metadata": {},
   "outputs": [
    {
     "name": "stdout",
     "output_type": "stream",
     "text": [
      "    a   b\n",
      "0  10  20\n",
      "1  20  30\n",
      "2  30  40\n",
      "    c   d\n",
      "0  30  10\n",
      "1  50  20\n",
      "2  60  25\n"
     ]
    }
   ],
   "source": [
    "# create a dataframe object \n",
    "import pandas as pd\n",
    "\n",
    "df = pd.DataFrame({\"a\": [10, 20, 30], \"b\": [20, 30, 40]})\n",
    "df1 = pd.DataFrame({\"c\": [30, 50, 60], \"d\": [10, 20, 25]})\n",
    "\n",
    "print(df)\n",
    "print(df1)"
   ]
  },
  {
   "cell_type": "code",
   "execution_count": 4,
   "metadata": {},
   "outputs": [
    {
     "name": "stdout",
     "output_type": "stream",
     "text": [
      "     a     b\n",
      "0  100   400\n",
      "1  400   900\n",
      "2  900  1600\n"
     ]
    }
   ],
   "source": [
    "# Apply the  my_sq to all values\n",
    "df_sq=df.apply(my_sq)\n",
    "print(df_sq)"
   ]
  },
  {
   "cell_type": "code",
   "execution_count": 5,
   "metadata": {},
   "outputs": [
    {
     "name": "stdout",
     "output_type": "stream",
     "text": [
      "0    100\n",
      "1    400\n",
      "2    900\n",
      "Name: a, dtype: int64\n"
     ]
    }
   ],
   "source": [
    "# Apply the  my_sq to all values in the a column\n",
    "# Apply to a series\n",
    "df_csq=df['a'].apply(my_sq)\n",
    "print(df_csq)"
   ]
  },
  {
   "cell_type": "code",
   "execution_count": 16,
   "metadata": {},
   "outputs": [
    {
     "name": "stdout",
     "output_type": "stream",
     "text": [
      "     a     b\n",
      "0  100   400\n",
      "1  400   900\n",
      "2  900  1600\n",
      "    a   b\n",
      "0  10  20\n",
      "1  20  30\n",
      "2  30  40\n"
     ]
    }
   ],
   "source": [
    "# Another way to perform column wise operations for each column\n",
    "# axis=0 or axis=\"column\"\n",
    "print(df.apply(my_sq,axis=0))\n",
    "print(df)"
   ]
  },
  {
   "cell_type": "code",
   "execution_count": 6,
   "metadata": {},
   "outputs": [
    {
     "name": "stdout",
     "output_type": "stream",
     "text": [
      "      c    d\n",
      "0   900  100\n",
      "1  2500  400\n",
      "2  3600  625\n",
      "      c    d\n",
      "0   900  100\n",
      "1  2500  400\n",
      "2  3600  625\n",
      "    c   d\n",
      "0  30  10\n",
      "1  50  20\n",
      "2  60  25\n"
     ]
    }
   ],
   "source": [
    "print(df1.apply(my_sq, axis=0))\n",
    "print(df1.apply(my_sq, axis=1))\n",
    "print(df1)"
   ]
  },
  {
   "cell_type": "code",
   "execution_count": 15,
   "metadata": {},
   "outputs": [
    {
     "name": "stdout",
     "output_type": "stream",
     "text": [
      "     a     b\n",
      "0  100   400\n",
      "1  400   900\n",
      "2  900  1600\n"
     ]
    }
   ],
   "source": [
    "# To perform row wise operations, for each row\n",
    "# axis=1 or axis=\"index\"\n",
    "print(df.apply(my_sq,axis=1))"
   ]
  },
  {
   "cell_type": "code",
   "execution_count": 8,
   "metadata": {},
   "outputs": [],
   "source": [
    "# Define a function that takes 2 parameters\n",
    "def my_exp(x,e):\n",
    "    return x ** e"
   ]
  },
  {
   "cell_type": "code",
   "execution_count": 9,
   "metadata": {},
   "outputs": [
    {
     "name": "stdout",
     "output_type": "stream",
     "text": [
      "          a         b\n",
      "0  3.162278  4.472136\n",
      "1  4.472136  5.477226\n",
      "2  5.477226  6.324555\n",
      "    a   b\n",
      "0  10  20\n",
      "1  20  30\n",
      "2  30  40\n"
     ]
    }
   ],
   "source": [
    "# Apply to the dataframe, needs to pass only one parameter value\n",
    "df_cube=df.apply(my_exp,e=0.5)\n",
    "print(df_cube)\n",
    "print(df)"
   ]
  },
  {
   "cell_type": "code",
   "execution_count": 11,
   "metadata": {},
   "outputs": [],
   "source": [
    "# will work on any number of columns\n",
    "def avg_3(col):\n",
    "  x=col[0]\n",
    "  y=col[1]\n",
    "  z=col[2]  \n",
    "  return (x + y + z) / 3"
   ]
  },
  {
   "cell_type": "code",
   "execution_count": 20,
   "metadata": {},
   "outputs": [
    {
     "name": "stdout",
     "output_type": "stream",
     "text": [
      "a    20.0\n",
      "b    30.0\n",
      "c    60.0\n",
      "dtype: float64\n"
     ]
    }
   ],
   "source": [
    "df_2=pd.DataFrame({\"a\": [10, 20, 30], \"b\": [20, 30, 40],\"c\":[50,60,70]})\n",
    "print(df_2.apply(avg_3))"
   ]
  },
  {
   "cell_type": "code",
   "execution_count": 21,
   "metadata": {},
   "outputs": [
    {
     "name": "stdout",
     "output_type": "stream",
     "text": [
      "a    20.0\n",
      "b    30.0\n",
      "dtype: float64\n"
     ]
    }
   ],
   "source": [
    "df_2=pd.DataFrame({\"a\": [10, 20, 30], \"b\": [20, 30, 40]})\n",
    "print(df_2.apply(avg_3))"
   ]
  },
  {
   "cell_type": "code",
   "execution_count": 26,
   "metadata": {},
   "outputs": [
    {
     "name": "stdout",
     "output_type": "stream",
     "text": [
      "    a   b   c   d\n",
      "0  10  20  50  70\n",
      "1  20  30  60  80\n",
      "2  30  40  70  90\n",
      "a    20.0\n",
      "b    30.0\n",
      "c    60.0\n",
      "d    80.0\n",
      "dtype: float64\n"
     ]
    }
   ],
   "source": [
    "df_2=pd.DataFrame({\"a\": [10, 20, 30], \"b\": [20, 30, 40],\"c\":[50,60,70],\"d\":[70,80,90]})\n",
    "print( df_2)\n",
    "print(df_2.apply(avg_3))"
   ]
  },
  {
   "cell_type": "code",
   "execution_count": 12,
   "metadata": {},
   "outputs": [
    {
     "name": "stdout",
     "output_type": "stream",
     "text": [
      "0    26.666667\n",
      "1    36.666667\n",
      "2    46.666667\n",
      "dtype: float64\n",
      "    a   b   c\n",
      "0  10  20  50\n",
      "1  20  30  60\n",
      "2  30  40  70\n"
     ]
    }
   ],
   "source": [
    "# doing the row wise average\n",
    "df_2=pd.DataFrame({\"a\": [10, 20, 30], \"b\": [20, 30, 40],\"c\":[50,60,70]})\n",
    "print(df_2.apply(avg_3,axis=1))\n",
    "print(df_2)"
   ]
  },
  {
   "cell_type": "code",
   "execution_count": 13,
   "metadata": {},
   "outputs": [
    {
     "name": "stdout",
     "output_type": "stream",
     "text": [
      "    a   b\n",
      "0  10  20\n",
      "1  20  30\n",
      "2  30  40\n",
      "0    15.0\n",
      "1    25.0\n",
      "2    35.0\n",
      "dtype: float64\n",
      "    a   b\n",
      "0  10  20\n",
      "1  20  30\n",
      "2  30  40\n"
     ]
    }
   ],
   "source": [
    "# Vectorized Functions\n",
    "df = pd.DataFrame({\"a\": [10, 20, 30], \"b\": [20, 30, 40]})\n",
    "print(df)\n",
    "\n",
    "#define an average function\n",
    "def avg_2(x, y):\n",
    "  return (x + y) / 2\n",
    "\n",
    "#pass a vector or values for x and y\n",
    "print(avg_2(df['a'], df['b'])) # Do not work on DF or DS but only work on single values\n",
    "print(df)"
   ]
  },
  {
   "cell_type": "code",
   "execution_count": 29,
   "metadata": {},
   "outputs": [
    {
     "name": "stdout",
     "output_type": "stream",
     "text": [
      "[15. nan 35.]\n"
     ]
    }
   ],
   "source": [
    "# Vectorize with Numpy\n",
    "import numpy as np\n",
    "\n",
    "def avg_2_mod(x, y):\n",
    "   \"\"\"Calculate the average, unless x is 20\n",
    "   If the value is 20, return a missing value\n",
    "   \"\"\"\n",
    "   if (x == 20):\n",
    "     return(np.NaN)\n",
    "   else:\n",
    "     return (x + y) / 2\n",
    "\n",
    "# np.vectorize actually creates a new vectorized function\n",
    "# Take one by one and sending it to a function\n",
    "avg_2_mod_vec = np.vectorize(avg_2_mod)\n",
    "print\n",
    "\n",
    "# use the newly vectorized function\n",
    "print(avg_2_mod_vec(df['a'], df['b']))"
   ]
  },
  {
   "cell_type": "code",
   "execution_count": 30,
   "metadata": {},
   "outputs": [
    {
     "name": "stdout",
     "output_type": "stream",
     "text": [
      "    a   b  a_sq_lamb\n",
      "0  10  20        100\n",
      "1  20  30        400\n",
      "2  30  40        900\n"
     ]
    }
   ],
   "source": [
    "# For simple function like my_sq you can use one-liner directly in the apply method, this is called lambda functions\n",
    "# Lambda functions takes only one parameter\n",
    "# Cannot be reused as they are unnamed functions\n",
    "df['a_sq_lamb'] = df['a'].apply(lambda x: x ** 2)\n",
    "print(df)"
   ]
  },
  {
   "cell_type": "code",
   "execution_count": null,
   "metadata": {},
   "outputs": [],
   "source": []
  }
 ],
 "metadata": {
  "kernelspec": {
   "display_name": "Python 3 (ipykernel)",
   "language": "python",
   "name": "python3"
  },
  "language_info": {
   "codemirror_mode": {
    "name": "ipython",
    "version": 3
   },
   "file_extension": ".py",
   "mimetype": "text/x-python",
   "name": "python",
   "nbconvert_exporter": "python",
   "pygments_lexer": "ipython3",
   "version": "3.11.5"
  }
 },
 "nbformat": 4,
 "nbformat_minor": 4
}
